{
 "cells": [
  {
   "cell_type": "code",
   "execution_count": 56,
   "id": "f42dfcad",
   "metadata": {
    "deletable": false,
    "editable": false
   },
   "outputs": [],
   "source": [
    "# Initialize Otter\n",
    "import otter\n",
    "grader = otter.Notebook(\"hw06.ipynb\")"
   ]
  },
  {
   "cell_type": "markdown",
   "id": "0986bb14",
   "metadata": {},
   "source": [
    "# Homework 6: Modeling and Analyzing COVID-19 Cases\n",
    "## Probability and Estimators\n",
    "## Due Date: Thursday, March 31, 11:59 PM PDT\n",
    "\n",
    "\n",
    "**Content Warning**\n",
    "\n",
    "This assignment includes an analysis of daily COVID-19 cases by U.S. county through 2021. If you feel uncomfortable with this topic, **please contact your GSI or the instructors.**\n",
    "\n",
    "**Collaboration Policy**\n",
    "\n",
    "Data science is a collaborative activity. While you may talk with others about\n",
    "the homework, we ask that you **write your solutions individually**. If you do\n",
    "discuss the assignments with others please **include their names** below."
   ]
  },
  {
   "cell_type": "markdown",
   "id": "6331eacc",
   "metadata": {},
   "source": [
    "**Collaborators**: *list collaborators here*"
   ]
  },
  {
   "cell_type": "markdown",
   "id": "5d42ba55",
   "metadata": {},
   "source": [
    "\n",
    "\n",
    "## Introduction\n",
    "\n",
    "In this homework, we will investigate a dataset that contains information about COVID-19 cases in the United States, vaccination rates, and various other metadata that can assist in modeling various aspects of COVID-19.\n",
    "\n",
    "Through this homework assignment, you will demonstrate your experience with:\n",
    "* Bootstrap sampling\n",
    "* Bias-variance tradeoff and decomposition\n",
    "* Biased and unbiased estimators\n",
    "* Multicollinearity in features"
   ]
  },
  {
   "cell_type": "code",
   "execution_count": 57,
   "id": "22645f1f",
   "metadata": {},
   "outputs": [],
   "source": [
    "# Run this cell to set up your notebook\n",
    "import numpy as np\n",
    "import pandas as pd\n",
    "import sklearn.linear_model as lm\n",
    "from sklearn.model_selection import train_test_split\n",
    "\n",
    "import matplotlib.pyplot as plt\n",
    "import seaborn as sns\n",
    "from IPython.display import Markdown\n",
    "\n",
    "import scipy.stats"
   ]
  },
  {
   "cell_type": "markdown",
   "id": "49e48c53",
   "metadata": {},
   "source": [
    "<br/><br/><br/>\n",
    "\n",
    "<hr style=\"border: 5px solid #003262;\" />\n",
    "<hr style=\"border: 1px solid #fdb515;\" />\n",
    "\n",
    "## Question 1: Random Variables\n",
    "\n",
    "Question 1 is a written problem and should be submitted as a separate PDF to the Written portal of Gradescope. All other questions in this assignment are submitted as part of this notebook.\n",
    "\n",
    "Question 1 PDF File: https://ds100.org/sp22/hw/hw06/hw06_student.pdf\n",
    "<br>Question 1 Overleaf Template: https://ds100.org/sp22/hw/hw06/hw06_template.zip"
   ]
  },
  {
   "cell_type": "markdown",
   "id": "fa0e342f",
   "metadata": {},
   "source": [
    "<br/><br/><br/>\n",
    "\n",
    "<hr style=\"border: 5px solid #003262;\" />\n",
    "<hr style=\"border: 1px solid #fdb515;\" />\n",
    "\n",
    "## Question 2: Exploratory Data Analysis\n",
    "\n",
    "Let's perform some initial exploratory data analysis to examine and visualize potential trends in a COVID-19 dataset."
   ]
  },
  {
   "cell_type": "code",
   "execution_count": 58,
   "id": "62887708",
   "metadata": {},
   "outputs": [
    {
     "data": {
      "text/html": [
       "<div>\n",
       "<style scoped>\n",
       "    .dataframe tbody tr th:only-of-type {\n",
       "        vertical-align: middle;\n",
       "    }\n",
       "\n",
       "    .dataframe tbody tr th {\n",
       "        vertical-align: top;\n",
       "    }\n",
       "\n",
       "    .dataframe thead th {\n",
       "        text-align: right;\n",
       "    }\n",
       "</style>\n",
       "<table border=\"1\" class=\"dataframe\">\n",
       "  <thead>\n",
       "    <tr style=\"text-align: right;\">\n",
       "      <th></th>\n",
       "      <th>UID</th>\n",
       "      <th>iso2</th>\n",
       "      <th>iso3</th>\n",
       "      <th>code3</th>\n",
       "      <th>FIPS</th>\n",
       "      <th>Admin2</th>\n",
       "      <th>Province_State</th>\n",
       "      <th>Country_Region</th>\n",
       "      <th>Lat</th>\n",
       "      <th>Long_</th>\n",
       "      <th>...</th>\n",
       "      <th>POPESTIMATE2018</th>\n",
       "      <th>POPESTIMATE2019</th>\n",
       "      <th>POPESTIMATE042020</th>\n",
       "      <th>POPESTIMATE2020</th>\n",
       "      <th>COUNTYFP</th>\n",
       "      <th>NEVER</th>\n",
       "      <th>RARELY</th>\n",
       "      <th>SOMETIMES</th>\n",
       "      <th>FREQUENTLY</th>\n",
       "      <th>ALWAYS</th>\n",
       "    </tr>\n",
       "  </thead>\n",
       "  <tbody>\n",
       "    <tr>\n",
       "      <th>0</th>\n",
       "      <td>84001001</td>\n",
       "      <td>US</td>\n",
       "      <td>USA</td>\n",
       "      <td>840</td>\n",
       "      <td>1001</td>\n",
       "      <td>Autauga</td>\n",
       "      <td>Alabama</td>\n",
       "      <td>US</td>\n",
       "      <td>32.539527</td>\n",
       "      <td>-86.644082</td>\n",
       "      <td>...</td>\n",
       "      <td>55533</td>\n",
       "      <td>55769</td>\n",
       "      <td>56130</td>\n",
       "      <td>56145</td>\n",
       "      <td>1001</td>\n",
       "      <td>0.053</td>\n",
       "      <td>0.074</td>\n",
       "      <td>0.134</td>\n",
       "      <td>0.295</td>\n",
       "      <td>0.444</td>\n",
       "    </tr>\n",
       "    <tr>\n",
       "      <th>1</th>\n",
       "      <td>84001003</td>\n",
       "      <td>US</td>\n",
       "      <td>USA</td>\n",
       "      <td>840</td>\n",
       "      <td>1003</td>\n",
       "      <td>Baldwin</td>\n",
       "      <td>Alabama</td>\n",
       "      <td>US</td>\n",
       "      <td>30.727750</td>\n",
       "      <td>-87.722071</td>\n",
       "      <td>...</td>\n",
       "      <td>218071</td>\n",
       "      <td>223565</td>\n",
       "      <td>227989</td>\n",
       "      <td>229287</td>\n",
       "      <td>1003</td>\n",
       "      <td>0.083</td>\n",
       "      <td>0.059</td>\n",
       "      <td>0.098</td>\n",
       "      <td>0.323</td>\n",
       "      <td>0.436</td>\n",
       "    </tr>\n",
       "    <tr>\n",
       "      <th>2</th>\n",
       "      <td>84001005</td>\n",
       "      <td>US</td>\n",
       "      <td>USA</td>\n",
       "      <td>840</td>\n",
       "      <td>1005</td>\n",
       "      <td>Barbour</td>\n",
       "      <td>Alabama</td>\n",
       "      <td>US</td>\n",
       "      <td>31.868263</td>\n",
       "      <td>-85.387129</td>\n",
       "      <td>...</td>\n",
       "      <td>24887</td>\n",
       "      <td>24657</td>\n",
       "      <td>24652</td>\n",
       "      <td>24589</td>\n",
       "      <td>1005</td>\n",
       "      <td>0.067</td>\n",
       "      <td>0.121</td>\n",
       "      <td>0.120</td>\n",
       "      <td>0.201</td>\n",
       "      <td>0.491</td>\n",
       "    </tr>\n",
       "    <tr>\n",
       "      <th>3</th>\n",
       "      <td>84001007</td>\n",
       "      <td>US</td>\n",
       "      <td>USA</td>\n",
       "      <td>840</td>\n",
       "      <td>1007</td>\n",
       "      <td>Bibb</td>\n",
       "      <td>Alabama</td>\n",
       "      <td>US</td>\n",
       "      <td>32.996421</td>\n",
       "      <td>-87.125115</td>\n",
       "      <td>...</td>\n",
       "      <td>22300</td>\n",
       "      <td>22313</td>\n",
       "      <td>22199</td>\n",
       "      <td>22136</td>\n",
       "      <td>1007</td>\n",
       "      <td>0.020</td>\n",
       "      <td>0.034</td>\n",
       "      <td>0.096</td>\n",
       "      <td>0.278</td>\n",
       "      <td>0.572</td>\n",
       "    </tr>\n",
       "    <tr>\n",
       "      <th>4</th>\n",
       "      <td>84001009</td>\n",
       "      <td>US</td>\n",
       "      <td>USA</td>\n",
       "      <td>840</td>\n",
       "      <td>1009</td>\n",
       "      <td>Blount</td>\n",
       "      <td>Alabama</td>\n",
       "      <td>US</td>\n",
       "      <td>33.982109</td>\n",
       "      <td>-86.567906</td>\n",
       "      <td>...</td>\n",
       "      <td>57770</td>\n",
       "      <td>57840</td>\n",
       "      <td>57932</td>\n",
       "      <td>57879</td>\n",
       "      <td>1009</td>\n",
       "      <td>0.053</td>\n",
       "      <td>0.114</td>\n",
       "      <td>0.180</td>\n",
       "      <td>0.194</td>\n",
       "      <td>0.459</td>\n",
       "    </tr>\n",
       "  </tbody>\n",
       "</table>\n",
       "<p>5 rows × 638 columns</p>\n",
       "</div>"
      ],
      "text/plain": [
       "        UID iso2 iso3  code3  FIPS   Admin2 Province_State Country_Region  \\\n",
       "0  84001001   US  USA    840  1001  Autauga        Alabama             US   \n",
       "1  84001003   US  USA    840  1003  Baldwin        Alabama             US   \n",
       "2  84001005   US  USA    840  1005  Barbour        Alabama             US   \n",
       "3  84001007   US  USA    840  1007     Bibb        Alabama             US   \n",
       "4  84001009   US  USA    840  1009   Blount        Alabama             US   \n",
       "\n",
       "         Lat      Long_  ... POPESTIMATE2018  POPESTIMATE2019  \\\n",
       "0  32.539527 -86.644082  ...           55533            55769   \n",
       "1  30.727750 -87.722071  ...          218071           223565   \n",
       "2  31.868263 -85.387129  ...           24887            24657   \n",
       "3  32.996421 -87.125115  ...           22300            22313   \n",
       "4  33.982109 -86.567906  ...           57770            57840   \n",
       "\n",
       "   POPESTIMATE042020  POPESTIMATE2020  COUNTYFP  NEVER  RARELY  SOMETIMES  \\\n",
       "0              56130            56145      1001  0.053   0.074      0.134   \n",
       "1             227989           229287      1003  0.083   0.059      0.098   \n",
       "2              24652            24589      1005  0.067   0.121      0.120   \n",
       "3              22199            22136      1007  0.020   0.034      0.096   \n",
       "4              57932            57879      1009  0.053   0.114      0.180   \n",
       "\n",
       "   FREQUENTLY  ALWAYS  \n",
       "0       0.295   0.444  \n",
       "1       0.323   0.436  \n",
       "2       0.201   0.491  \n",
       "3       0.278   0.572  \n",
       "4       0.194   0.459  \n",
       "\n",
       "[5 rows x 638 columns]"
      ]
     },
     "execution_count": 58,
     "metadata": {},
     "output_type": "execute_result"
    }
   ],
   "source": [
    "# just run this cell\n",
    "covid_data = pd.read_csv('data/covid_data.csv')\n",
    "covid_data.head(5)"
   ]
  },
  {
   "cell_type": "markdown",
   "id": "b15fa582",
   "metadata": {},
   "source": [
    "The data are at county granularity; each row corresponds to COVID-19 data from a U.S. county. Here are some highlights and data sources:\n",
    "\n",
    "* The first few columns encode county and state data; for example, check out the [FIPS](https://transition.fcc.gov/oet/info/maps/census/fips/fips.txt) numeric encoding for U.S. counties.\n",
    "* The next 600 columns record daily COVID-19 cases in the county for the date range 1/22/2020 to 9/12/2021. COVID-19 case data are from CSSE at Johns Hopkins University [GitHub](https://github.com/CSSEGISandData/COVID-19/blob/master/csse_covid_19_data/csse_covid_19_time_series/time_series_covid19_confirmed_US.csv).\n",
    "* The next few columns include county populations from [U.S. census data](https://www2.census.gov/programs-surveys/popest/datasets/2010-2020/counties/totals/co-est2020.csv), the latest of which is 2020.\n",
    "* The last 5 columns record mask usage survey data on a 5-point scale from `NEVER` to `ALWAYS`. Data are collected in July 2020 from the New York Times [GitHub](https://github.com/nytimes/covid-19-data/blob/master/mask-use/mask-use-by-county.csv).\n",
    "\n",
    "We can use `covid_data.describe()` to see various statistics about the numerical features of the provided COVID-19 data. Do any particular statistics stand out to you? Which might be useful when modeling?\n",
    "\n",
    "**Note:** This isn't a question (i.e. it's worth no points); this is just food for thought as you start to explore the dataset."
   ]
  },
  {
   "cell_type": "code",
   "execution_count": 59,
   "id": "f4f93840",
   "metadata": {},
   "outputs": [
    {
     "data": {
      "text/html": [
       "<div>\n",
       "<style scoped>\n",
       "    .dataframe tbody tr th:only-of-type {\n",
       "        vertical-align: middle;\n",
       "    }\n",
       "\n",
       "    .dataframe tbody tr th {\n",
       "        vertical-align: top;\n",
       "    }\n",
       "\n",
       "    .dataframe thead th {\n",
       "        text-align: right;\n",
       "    }\n",
       "</style>\n",
       "<table border=\"1\" class=\"dataframe\">\n",
       "  <thead>\n",
       "    <tr style=\"text-align: right;\">\n",
       "      <th></th>\n",
       "      <th>UID</th>\n",
       "      <th>code3</th>\n",
       "      <th>FIPS</th>\n",
       "      <th>Lat</th>\n",
       "      <th>Long_</th>\n",
       "      <th>1/22/20</th>\n",
       "      <th>1/23/20</th>\n",
       "      <th>1/24/20</th>\n",
       "      <th>1/25/20</th>\n",
       "      <th>1/26/20</th>\n",
       "      <th>...</th>\n",
       "      <th>POPESTIMATE2018</th>\n",
       "      <th>POPESTIMATE2019</th>\n",
       "      <th>POPESTIMATE042020</th>\n",
       "      <th>POPESTIMATE2020</th>\n",
       "      <th>COUNTYFP</th>\n",
       "      <th>NEVER</th>\n",
       "      <th>RARELY</th>\n",
       "      <th>SOMETIMES</th>\n",
       "      <th>FREQUENTLY</th>\n",
       "      <th>ALWAYS</th>\n",
       "    </tr>\n",
       "  </thead>\n",
       "  <tbody>\n",
       "    <tr>\n",
       "      <th>count</th>\n",
       "      <td>3.141000e+03</td>\n",
       "      <td>3141.0</td>\n",
       "      <td>3141.000000</td>\n",
       "      <td>3141.000000</td>\n",
       "      <td>3141.000000</td>\n",
       "      <td>3141.000000</td>\n",
       "      <td>3141.000000</td>\n",
       "      <td>3141.000000</td>\n",
       "      <td>3141.000000</td>\n",
       "      <td>3141.000000</td>\n",
       "      <td>...</td>\n",
       "      <td>3.141000e+03</td>\n",
       "      <td>3.141000e+03</td>\n",
       "      <td>3.141000e+03</td>\n",
       "      <td>3.141000e+03</td>\n",
       "      <td>3141.000000</td>\n",
       "      <td>3141.000000</td>\n",
       "      <td>3141.000000</td>\n",
       "      <td>3141.000000</td>\n",
       "      <td>3141.000000</td>\n",
       "      <td>3141.000000</td>\n",
       "    </tr>\n",
       "    <tr>\n",
       "      <th>mean</th>\n",
       "      <td>8.403039e+07</td>\n",
       "      <td>840.0</td>\n",
       "      <td>30392.602674</td>\n",
       "      <td>38.448156</td>\n",
       "      <td>-92.272006</td>\n",
       "      <td>0.000318</td>\n",
       "      <td>0.000318</td>\n",
       "      <td>0.000637</td>\n",
       "      <td>0.000637</td>\n",
       "      <td>0.001592</td>\n",
       "      <td>...</td>\n",
       "      <td>1.040525e+05</td>\n",
       "      <td>1.045274e+05</td>\n",
       "      <td>1.048677e+05</td>\n",
       "      <td>1.048949e+05</td>\n",
       "      <td>30392.602674</td>\n",
       "      <td>0.079952</td>\n",
       "      <td>0.082929</td>\n",
       "      <td>0.121340</td>\n",
       "      <td>0.207728</td>\n",
       "      <td>0.508044</td>\n",
       "    </tr>\n",
       "    <tr>\n",
       "      <th>std</th>\n",
       "      <td>1.515661e+04</td>\n",
       "      <td>0.0</td>\n",
       "      <td>15156.613190</td>\n",
       "      <td>5.292540</td>\n",
       "      <td>12.909318</td>\n",
       "      <td>0.017843</td>\n",
       "      <td>0.017843</td>\n",
       "      <td>0.025230</td>\n",
       "      <td>0.025230</td>\n",
       "      <td>0.039873</td>\n",
       "      <td>...</td>\n",
       "      <td>3.326200e+05</td>\n",
       "      <td>3.332156e+05</td>\n",
       "      <td>3.335848e+05</td>\n",
       "      <td>3.333719e+05</td>\n",
       "      <td>15156.613190</td>\n",
       "      <td>0.058543</td>\n",
       "      <td>0.055469</td>\n",
       "      <td>0.058007</td>\n",
       "      <td>0.063581</td>\n",
       "      <td>0.152190</td>\n",
       "    </tr>\n",
       "    <tr>\n",
       "      <th>min</th>\n",
       "      <td>8.400100e+07</td>\n",
       "      <td>840.0</td>\n",
       "      <td>1001.000000</td>\n",
       "      <td>19.601212</td>\n",
       "      <td>-174.159600</td>\n",
       "      <td>0.000000</td>\n",
       "      <td>0.000000</td>\n",
       "      <td>0.000000</td>\n",
       "      <td>0.000000</td>\n",
       "      <td>0.000000</td>\n",
       "      <td>...</td>\n",
       "      <td>8.700000e+01</td>\n",
       "      <td>8.700000e+01</td>\n",
       "      <td>9.000000e+01</td>\n",
       "      <td>8.700000e+01</td>\n",
       "      <td>1001.000000</td>\n",
       "      <td>0.000000</td>\n",
       "      <td>0.000000</td>\n",
       "      <td>0.001000</td>\n",
       "      <td>0.029000</td>\n",
       "      <td>0.115000</td>\n",
       "    </tr>\n",
       "    <tr>\n",
       "      <th>25%</th>\n",
       "      <td>8.401818e+07</td>\n",
       "      <td>840.0</td>\n",
       "      <td>18179.000000</td>\n",
       "      <td>34.693167</td>\n",
       "      <td>-98.218207</td>\n",
       "      <td>0.000000</td>\n",
       "      <td>0.000000</td>\n",
       "      <td>0.000000</td>\n",
       "      <td>0.000000</td>\n",
       "      <td>0.000000</td>\n",
       "      <td>...</td>\n",
       "      <td>1.096300e+04</td>\n",
       "      <td>1.093600e+04</td>\n",
       "      <td>1.091900e+04</td>\n",
       "      <td>1.092100e+04</td>\n",
       "      <td>18179.000000</td>\n",
       "      <td>0.034000</td>\n",
       "      <td>0.040000</td>\n",
       "      <td>0.079000</td>\n",
       "      <td>0.164000</td>\n",
       "      <td>0.393000</td>\n",
       "    </tr>\n",
       "    <tr>\n",
       "      <th>50%</th>\n",
       "      <td>8.402918e+07</td>\n",
       "      <td>840.0</td>\n",
       "      <td>29177.000000</td>\n",
       "      <td>38.373019</td>\n",
       "      <td>-90.396561</td>\n",
       "      <td>0.000000</td>\n",
       "      <td>0.000000</td>\n",
       "      <td>0.000000</td>\n",
       "      <td>0.000000</td>\n",
       "      <td>0.000000</td>\n",
       "      <td>...</td>\n",
       "      <td>2.583700e+04</td>\n",
       "      <td>2.573500e+04</td>\n",
       "      <td>2.570100e+04</td>\n",
       "      <td>2.565800e+04</td>\n",
       "      <td>29177.000000</td>\n",
       "      <td>0.068000</td>\n",
       "      <td>0.073000</td>\n",
       "      <td>0.115000</td>\n",
       "      <td>0.204000</td>\n",
       "      <td>0.497000</td>\n",
       "    </tr>\n",
       "    <tr>\n",
       "      <th>75%</th>\n",
       "      <td>8.404508e+07</td>\n",
       "      <td>840.0</td>\n",
       "      <td>45081.000000</td>\n",
       "      <td>41.802830</td>\n",
       "      <td>-83.436796</td>\n",
       "      <td>0.000000</td>\n",
       "      <td>0.000000</td>\n",
       "      <td>0.000000</td>\n",
       "      <td>0.000000</td>\n",
       "      <td>0.000000</td>\n",
       "      <td>...</td>\n",
       "      <td>6.813600e+04</td>\n",
       "      <td>6.828200e+04</td>\n",
       "      <td>6.822000e+04</td>\n",
       "      <td>6.824100e+04</td>\n",
       "      <td>45081.000000</td>\n",
       "      <td>0.113000</td>\n",
       "      <td>0.115000</td>\n",
       "      <td>0.156000</td>\n",
       "      <td>0.247000</td>\n",
       "      <td>0.613000</td>\n",
       "    </tr>\n",
       "    <tr>\n",
       "      <th>max</th>\n",
       "      <td>8.405604e+07</td>\n",
       "      <td>840.0</td>\n",
       "      <td>56045.000000</td>\n",
       "      <td>69.314792</td>\n",
       "      <td>-67.628135</td>\n",
       "      <td>1.000000</td>\n",
       "      <td>1.000000</td>\n",
       "      <td>1.000000</td>\n",
       "      <td>1.000000</td>\n",
       "      <td>1.000000</td>\n",
       "      <td>...</td>\n",
       "      <td>1.006153e+07</td>\n",
       "      <td>1.001160e+07</td>\n",
       "      <td>9.968969e+06</td>\n",
       "      <td>9.943046e+06</td>\n",
       "      <td>56045.000000</td>\n",
       "      <td>0.432000</td>\n",
       "      <td>0.384000</td>\n",
       "      <td>0.422000</td>\n",
       "      <td>0.549000</td>\n",
       "      <td>0.889000</td>\n",
       "    </tr>\n",
       "  </tbody>\n",
       "</table>\n",
       "<p>8 rows × 630 columns</p>\n",
       "</div>"
      ],
      "text/plain": [
       "                UID   code3          FIPS          Lat        Long_  \\\n",
       "count  3.141000e+03  3141.0   3141.000000  3141.000000  3141.000000   \n",
       "mean   8.403039e+07   840.0  30392.602674    38.448156   -92.272006   \n",
       "std    1.515661e+04     0.0  15156.613190     5.292540    12.909318   \n",
       "min    8.400100e+07   840.0   1001.000000    19.601212  -174.159600   \n",
       "25%    8.401818e+07   840.0  18179.000000    34.693167   -98.218207   \n",
       "50%    8.402918e+07   840.0  29177.000000    38.373019   -90.396561   \n",
       "75%    8.404508e+07   840.0  45081.000000    41.802830   -83.436796   \n",
       "max    8.405604e+07   840.0  56045.000000    69.314792   -67.628135   \n",
       "\n",
       "           1/22/20      1/23/20      1/24/20      1/25/20      1/26/20  ...  \\\n",
       "count  3141.000000  3141.000000  3141.000000  3141.000000  3141.000000  ...   \n",
       "mean      0.000318     0.000318     0.000637     0.000637     0.001592  ...   \n",
       "std       0.017843     0.017843     0.025230     0.025230     0.039873  ...   \n",
       "min       0.000000     0.000000     0.000000     0.000000     0.000000  ...   \n",
       "25%       0.000000     0.000000     0.000000     0.000000     0.000000  ...   \n",
       "50%       0.000000     0.000000     0.000000     0.000000     0.000000  ...   \n",
       "75%       0.000000     0.000000     0.000000     0.000000     0.000000  ...   \n",
       "max       1.000000     1.000000     1.000000     1.000000     1.000000  ...   \n",
       "\n",
       "       POPESTIMATE2018  POPESTIMATE2019  POPESTIMATE042020  POPESTIMATE2020  \\\n",
       "count     3.141000e+03     3.141000e+03       3.141000e+03     3.141000e+03   \n",
       "mean      1.040525e+05     1.045274e+05       1.048677e+05     1.048949e+05   \n",
       "std       3.326200e+05     3.332156e+05       3.335848e+05     3.333719e+05   \n",
       "min       8.700000e+01     8.700000e+01       9.000000e+01     8.700000e+01   \n",
       "25%       1.096300e+04     1.093600e+04       1.091900e+04     1.092100e+04   \n",
       "50%       2.583700e+04     2.573500e+04       2.570100e+04     2.565800e+04   \n",
       "75%       6.813600e+04     6.828200e+04       6.822000e+04     6.824100e+04   \n",
       "max       1.006153e+07     1.001160e+07       9.968969e+06     9.943046e+06   \n",
       "\n",
       "           COUNTYFP        NEVER       RARELY    SOMETIMES   FREQUENTLY  \\\n",
       "count   3141.000000  3141.000000  3141.000000  3141.000000  3141.000000   \n",
       "mean   30392.602674     0.079952     0.082929     0.121340     0.207728   \n",
       "std    15156.613190     0.058543     0.055469     0.058007     0.063581   \n",
       "min     1001.000000     0.000000     0.000000     0.001000     0.029000   \n",
       "25%    18179.000000     0.034000     0.040000     0.079000     0.164000   \n",
       "50%    29177.000000     0.068000     0.073000     0.115000     0.204000   \n",
       "75%    45081.000000     0.113000     0.115000     0.156000     0.247000   \n",
       "max    56045.000000     0.432000     0.384000     0.422000     0.549000   \n",
       "\n",
       "            ALWAYS  \n",
       "count  3141.000000  \n",
       "mean      0.508044  \n",
       "std       0.152190  \n",
       "min       0.115000  \n",
       "25%       0.393000  \n",
       "50%       0.497000  \n",
       "75%       0.613000  \n",
       "max       0.889000  \n",
       "\n",
       "[8 rows x 630 columns]"
      ]
     },
     "execution_count": 59,
     "metadata": {},
     "output_type": "execute_result"
    }
   ],
   "source": [
    "# just run this cell\n",
    "covid_data.describe()"
   ]
  },
  {
   "cell_type": "markdown",
   "id": "b3d8d884",
   "metadata": {
    "deletable": false,
    "editable": false
   },
   "source": [
    "### Question 2a\n",
    "\n",
    "In this homework, we will use linear regression to predict the number of COVID-19 cases on September 12th, 2021 using linear regression. **per capita** (i.e. the number of COVID-19 cases in a county divided the population of the county). Define a column `'9/12/2021_cpc'` in `covid_data` corresponding to the number of cases per capita on September 12th, 2021. \n",
    "\n",
    "Note that we will **always** use the `'POPESTIMATE2020'` as the population of each county.\n",
    "\n",
    "*Hint*: The number of cases per capita should be the total number of cases in a county divided by the population of the county.\n",
    "\n",
    "<!--\n",
    "BEGIN QUESTION\n",
    "name: q2a\n",
    "points: 3\n",
    "-->"
   ]
  },
  {
   "cell_type": "code",
   "execution_count": 60,
   "id": "4ce78efa",
   "metadata": {},
   "outputs": [],
   "source": [
    "covid_data[\"9/12/2021_cpc\"]=covid_data[\"9/12/21\"]/covid_data[\"POPESTIMATE2020\"]"
   ]
  },
  {
   "cell_type": "code",
   "execution_count": 61,
   "id": "4760ac79",
   "metadata": {
    "deletable": false,
    "editable": false
   },
   "outputs": [
    {
     "data": {
      "text/html": [
       "<p><strong><pre style='display: inline;'>q2a</pre></strong> passed! 🙌</p>"
      ],
      "text/plain": [
       "q2a results: All test cases passed!"
      ]
     },
     "execution_count": 61,
     "metadata": {},
     "output_type": "execute_result"
    }
   ],
   "source": [
    "grader.check(\"q2a\")"
   ]
  },
  {
   "cell_type": "markdown",
   "id": "0eac29d3",
   "metadata": {
    "deletable": false,
    "editable": false
   },
   "source": [
    "### Question 2b\n",
    "\n",
    "Assign `mask_data` that has six columns from the original `covid_data` table: the five mask columns and the `9/12/2021_cpc` column.\n",
    "\n",
    "**Note**: You should make a **copy** of these columns using `df.copy()` ([link](https://pandas.pydata.org/docs/reference/api/pandas.DataFrame.copy.html)).\n",
    "\n",
    "\n",
    "<!--\n",
    "BEGIN QUESTION\n",
    "name: q2b\n",
    "points: 1\n",
    "-->"
   ]
  },
  {
   "cell_type": "code",
   "execution_count": 62,
   "id": "75b767cc",
   "metadata": {},
   "outputs": [
    {
     "data": {
      "text/plain": [
       "Index(['UID', 'iso2', 'iso3', 'code3', 'FIPS', 'Admin2', 'Province_State',\n",
       "       'Country_Region', 'Lat', 'Long_',\n",
       "       ...\n",
       "       'POPESTIMATE2019', 'POPESTIMATE042020', 'POPESTIMATE2020', 'COUNTYFP',\n",
       "       'NEVER', 'RARELY', 'SOMETIMES', 'FREQUENTLY', 'ALWAYS',\n",
       "       '9/12/2021_cpc'],\n",
       "      dtype='object', length=639)"
      ]
     },
     "execution_count": 62,
     "metadata": {},
     "output_type": "execute_result"
    }
   ],
   "source": [
    "covid_data.columns"
   ]
  },
  {
   "cell_type": "code",
   "execution_count": 63,
   "id": "102cb391",
   "metadata": {},
   "outputs": [
    {
     "data": {
      "text/html": [
       "<div>\n",
       "<style scoped>\n",
       "    .dataframe tbody tr th:only-of-type {\n",
       "        vertical-align: middle;\n",
       "    }\n",
       "\n",
       "    .dataframe tbody tr th {\n",
       "        vertical-align: top;\n",
       "    }\n",
       "\n",
       "    .dataframe thead th {\n",
       "        text-align: right;\n",
       "    }\n",
       "</style>\n",
       "<table border=\"1\" class=\"dataframe\">\n",
       "  <thead>\n",
       "    <tr style=\"text-align: right;\">\n",
       "      <th></th>\n",
       "      <th>NEVER</th>\n",
       "      <th>RARELY</th>\n",
       "      <th>SOMETIMES</th>\n",
       "      <th>FREQUENTLY</th>\n",
       "      <th>ALWAYS</th>\n",
       "      <th>9/12/2021_cpc</th>\n",
       "    </tr>\n",
       "  </thead>\n",
       "  <tbody>\n",
       "    <tr>\n",
       "      <th>0</th>\n",
       "      <td>0.053</td>\n",
       "      <td>0.074</td>\n",
       "      <td>0.134</td>\n",
       "      <td>0.295</td>\n",
       "      <td>0.444</td>\n",
       "      <td>0.165411</td>\n",
       "    </tr>\n",
       "    <tr>\n",
       "      <th>1</th>\n",
       "      <td>0.083</td>\n",
       "      <td>0.059</td>\n",
       "      <td>0.098</td>\n",
       "      <td>0.323</td>\n",
       "      <td>0.436</td>\n",
       "      <td>0.152429</td>\n",
       "    </tr>\n",
       "    <tr>\n",
       "      <th>2</th>\n",
       "      <td>0.067</td>\n",
       "      <td>0.121</td>\n",
       "      <td>0.120</td>\n",
       "      <td>0.201</td>\n",
       "      <td>0.491</td>\n",
       "      <td>0.134003</td>\n",
       "    </tr>\n",
       "    <tr>\n",
       "      <th>3</th>\n",
       "      <td>0.020</td>\n",
       "      <td>0.034</td>\n",
       "      <td>0.096</td>\n",
       "      <td>0.278</td>\n",
       "      <td>0.572</td>\n",
       "      <td>0.171440</td>\n",
       "    </tr>\n",
       "    <tr>\n",
       "      <th>4</th>\n",
       "      <td>0.053</td>\n",
       "      <td>0.114</td>\n",
       "      <td>0.180</td>\n",
       "      <td>0.194</td>\n",
       "      <td>0.459</td>\n",
       "      <td>0.158538</td>\n",
       "    </tr>\n",
       "    <tr>\n",
       "      <th>...</th>\n",
       "      <td>...</td>\n",
       "      <td>...</td>\n",
       "      <td>...</td>\n",
       "      <td>...</td>\n",
       "      <td>...</td>\n",
       "      <td>...</td>\n",
       "    </tr>\n",
       "    <tr>\n",
       "      <th>3136</th>\n",
       "      <td>0.061</td>\n",
       "      <td>0.295</td>\n",
       "      <td>0.230</td>\n",
       "      <td>0.146</td>\n",
       "      <td>0.268</td>\n",
       "      <td>0.143205</td>\n",
       "    </tr>\n",
       "    <tr>\n",
       "      <th>3137</th>\n",
       "      <td>0.095</td>\n",
       "      <td>0.157</td>\n",
       "      <td>0.160</td>\n",
       "      <td>0.247</td>\n",
       "      <td>0.340</td>\n",
       "      <td>0.196238</td>\n",
       "    </tr>\n",
       "    <tr>\n",
       "      <th>3138</th>\n",
       "      <td>0.098</td>\n",
       "      <td>0.278</td>\n",
       "      <td>0.154</td>\n",
       "      <td>0.207</td>\n",
       "      <td>0.264</td>\n",
       "      <td>0.158496</td>\n",
       "    </tr>\n",
       "    <tr>\n",
       "      <th>3139</th>\n",
       "      <td>0.204</td>\n",
       "      <td>0.155</td>\n",
       "      <td>0.069</td>\n",
       "      <td>0.285</td>\n",
       "      <td>0.287</td>\n",
       "      <td>0.144330</td>\n",
       "    </tr>\n",
       "    <tr>\n",
       "      <th>3140</th>\n",
       "      <td>0.142</td>\n",
       "      <td>0.129</td>\n",
       "      <td>0.148</td>\n",
       "      <td>0.207</td>\n",
       "      <td>0.374</td>\n",
       "      <td>0.122942</td>\n",
       "    </tr>\n",
       "  </tbody>\n",
       "</table>\n",
       "<p>3141 rows × 6 columns</p>\n",
       "</div>"
      ],
      "text/plain": [
       "      NEVER  RARELY  SOMETIMES  FREQUENTLY  ALWAYS  9/12/2021_cpc\n",
       "0     0.053   0.074      0.134       0.295   0.444       0.165411\n",
       "1     0.083   0.059      0.098       0.323   0.436       0.152429\n",
       "2     0.067   0.121      0.120       0.201   0.491       0.134003\n",
       "3     0.020   0.034      0.096       0.278   0.572       0.171440\n",
       "4     0.053   0.114      0.180       0.194   0.459       0.158538\n",
       "...     ...     ...        ...         ...     ...            ...\n",
       "3136  0.061   0.295      0.230       0.146   0.268       0.143205\n",
       "3137  0.095   0.157      0.160       0.247   0.340       0.196238\n",
       "3138  0.098   0.278      0.154       0.207   0.264       0.158496\n",
       "3139  0.204   0.155      0.069       0.285   0.287       0.144330\n",
       "3140  0.142   0.129      0.148       0.207   0.374       0.122942\n",
       "\n",
       "[3141 rows x 6 columns]"
      ]
     },
     "execution_count": 63,
     "metadata": {},
     "output_type": "execute_result"
    }
   ],
   "source": [
    "mask_data = covid_data.copy().iloc[:,len(covid_data.columns)-6:len(covid_data.columns)]\n",
    "mask_data"
   ]
  },
  {
   "cell_type": "code",
   "execution_count": 64,
   "id": "0e37db29",
   "metadata": {
    "deletable": false,
    "editable": false
   },
   "outputs": [
    {
     "data": {
      "text/html": [
       "<p><strong><pre style='display: inline;'>q2b</pre></strong> passed! 💯</p>"
      ],
      "text/plain": [
       "q2b results: All test cases passed!"
      ]
     },
     "execution_count": 64,
     "metadata": {},
     "output_type": "execute_result"
    }
   ],
   "source": [
    "grader.check(\"q2b\")"
   ]
  },
  {
   "cell_type": "markdown",
   "id": "6bf1bf5f",
   "metadata": {
    "deletable": false,
    "editable": false
   },
   "source": [
    "<!-- BEGIN QUESTION -->\n",
    "\n",
    "### Question 2c\n",
    "\n",
    "In our first model, we will use county-wise mask usage data to predict the number of COVID-19 cases on September 12th, 2021 (i.e., the column `9/12/2021_cpc`). Create a visualization that shows the pairwise correlation between each combination of columns in `mask_data`. For 2-D visualizations, consider Seaborn's [heatmap](https://seaborn.pydata.org/generated/seaborn.heatmap.html).\n",
    "\n",
    "*Hint*: You should be plotting 36 values corresponding to the pairwise correlations of the six columns in `mask_data`.\n",
    "\n",
    "<!--\n",
    "BEGIN QUESTION\n",
    "name: q2c\n",
    "points: 3\n",
    "manual: True\n",
    "-->"
   ]
  },
  {
   "cell_type": "code",
   "execution_count": 65,
   "id": "4d968ce2",
   "metadata": {},
   "outputs": [
    {
     "data": {
      "text/plain": [
       "<Axes: >"
      ]
     },
     "execution_count": 65,
     "metadata": {},
     "output_type": "execute_result"
    },
    {
     "data": {
      "image/png": "[encoded data removed]",
      "text/plain": [
       "<Figure size 640x480 with 2 Axes>"
      ]
     },
     "metadata": {},
     "output_type": "display_data"
    }
   ],
   "source": [
    "cor = np.zeros((6,6))\n",
    "for i in range(6):\n",
    "    for j in range(6):\n",
    "        x = mask_data.iloc[:,i]\n",
    "        y = mask_data.iloc[:,j]\n",
    "        std_x = (x-np.mean(x))/np.std(x)\n",
    "        std_y = (y-np.mean(y))/np.std(y)\n",
    "        cor[i][j] = np.mean(std_x*std_y)\n",
    "\n",
    "cor_df = pd.DataFrame(cor,index=mask_data.columns,columns=mask_data.columns)\n",
    "sns.heatmap(cor_df)"
   ]
  },
  {
   "cell_type": "markdown",
   "id": "e9555923",
   "metadata": {
    "deletable": false,
    "editable": false
   },
   "source": [
    "<!-- END QUESTION -->\n",
    "\n",
    "<!-- BEGIN QUESTION -->\n",
    "\n",
    "### Question 2d\n",
    "\n",
    "(1) Describe the trends and takeaways visible in the visualization of pairwise correlations you plotted in Question 2c.\n",
    "\n",
    "(2) Consider the following linear regression model\n",
    "$$\\hat{y} = \\theta^T x,$$\n",
    "where $\\hat{y}$ is the predicted number of COVID-19 cases per capita on 9/12/2021 and $x$ is the five mask usage features. Comment on the quality of predictions and interpretability of features if we fit this linear model to the data.\n",
    "\n",
    "<!--\n",
    "BEGIN QUESTION\n",
    "name: q2d\n",
    "points: 3\n",
    "manual: True\n",
    "-->"
   ]
  },
  {
   "cell_type": "markdown",
   "id": "abf79486",
   "metadata": {},
   "source": [
    "_Type your answer here, replacing this text._"
   ]
  },
  {
   "cell_type": "markdown",
   "id": "e0cf217d",
   "metadata": {
    "tags": []
   },
   "source": [
    "<!-- END QUESTION -->\n",
    "\n",
    "\n",
    "\n",
    "<br/><br/><br/>\n",
    "\n",
    "<hr style=\"border: 5px solid #003262;\" />\n",
    "<hr style=\"border: 1px solid #fdb515;\" />\n",
    "\n",
    "## Question 3: Creating a Preliminary COVID-19 Model\n",
    "\n",
    "This question will guide you through creating a supervised learning framework that will predict the number of COVID-19 cases per capita given various COVID-19 safety protocols that have been implemented. Then, we will investigate the bias, variance, and observational noise of this framework in the next question.\n",
    "\n",
    "Note that any answer responses without the appropriate work (i.e. code or explanation) will be subject to additional review and will not receive any credit."
   ]
  },
  {
   "cell_type": "markdown",
   "id": "4c3cd1a6",
   "metadata": {
    "deletable": false,
    "editable": false
   },
   "source": [
    "### Question 3a\n",
    "\n",
    "Train a linear regression model using Scikit-learn, with an intercept term to predict the number of COVID-19 cases per capita for September 12, 2021 using county-wise mask usage data from `mask_data`. Use `train_test_split` to evaluate your model's RMSE on a held-out test set with 33% of the COVID-19 data; call the resulting splits `X_train`, `X_test`, `y_train`, and `y_test`.\n",
    "\n",
    "To pass the autograder, make sure to set the parameter `random_state` to 42 in your call to `train_test_split` to generate a reproducible data split ([documentation](http://scikit-learn.org/stable/modules/generated/sklearn.model_selection.train_test_split.html)).\n",
    "\n",
    "\n",
    "<!--\n",
    "BEGIN QUESTION\n",
    "name: q3a\n",
    "points: 5\n",
    "-->"
   ]
  },
  {
   "cell_type": "code",
   "execution_count": 66,
   "id": "14fec8ad",
   "metadata": {},
   "outputs": [
    {
     "data": {
      "text/plain": [
       "(0.03552339478226883, 0.037954861477287)"
      ]
     },
     "execution_count": 66,
     "metadata": {},
     "output_type": "execute_result"
    }
   ],
   "source": [
    "# Create train/test sets\n",
    "X = mask_data.iloc[:,:-1]\n",
    "y = mask_data[[\"9/12/2021_cpc\"]]\n",
    "X_train, X_test, y_train, y_test = train_test_split(X,y,test_size = 0.33,random_state=42)\n",
    "\n",
    "# fit the linear model and make predictions\n",
    "model = lm.LinearRegression(fit_intercept= True)\n",
    "model.fit(X_train,y_train)\n",
    "\n",
    "train_predict = model.predict(X_train)\n",
    "test_predict = model.predict(X_test)\n",
    "\n",
    "# compute RMSE on train and test sets\n",
    "train_rmse_cpc = np.sqrt(np.mean((y_train- train_predict)**2))\n",
    "test_rmse_cpc = np.sqrt(np.mean((y_test- test_predict)**2)) \n",
    "\n",
    "...\n",
    "\n",
    "train_rmse_cpc, test_rmse_cpc"
   ]
  },
  {
   "cell_type": "code",
   "execution_count": 67,
   "id": "9128ad87",
   "metadata": {
    "deletable": false,
    "editable": false
   },
   "outputs": [
    {
     "data": {
      "text/html": [
       "<p><strong><pre style='display: inline;'>q3a</pre></strong> passed! 🎉</p>"
      ],
      "text/plain": [
       "q3a results: All test cases passed!"
      ]
     },
     "execution_count": 67,
     "metadata": {},
     "output_type": "execute_result"
    }
   ],
   "source": [
    "grader.check(\"q3a\")"
   ]
  },
  {
   "cell_type": "markdown",
   "id": "2123db06",
   "metadata": {
    "deletable": false,
    "editable": false
   },
   "source": [
    "<!-- BEGIN QUESTION -->\n",
    "\n",
    "### Question 3b\n",
    "\n",
    "Visualize the model performance from part (a) by plotting two visualizations: (1) the predictions vs observations on the test set and (2) the residuals for the test set.\n",
    "\n",
    "Some notes:\n",
    "* We've used `plt.subplot` ([documentation](https://matplotlib.org/stable/gallery/subplots_axes_and_figures/subplots_demo.html)) so that you can view both visualizations side-by-side. For example, `plt.subplot(121)` sets the plottable area to the first column of a 1x2 plot grid; you can then call Matplotlib and Seaborn functions to plot that area, before the next `plt.subplot(122)` area is set.\n",
    "* Remember to add a guiding line to both plot where $\\hat{y} = y$, i.e., where the residual is 0.\n",
    "* Remember to label your axes.\n",
    "\n",
    "<!--\n",
    "BEGIN QUESTION\n",
    "name: q3b\n",
    "points: 3\n",
    "manual: True\n",
    "-->"
   ]
  },
  {
   "cell_type": "code",
   "execution_count": 68,
   "id": "d05e75c5",
   "metadata": {},
   "outputs": [
    {
     "data": {
      "image/png": "[encoded data removed]",
      "text/plain": [
       "<Figure size 1200x600 with 2 Axes>"
      ]
     },
     "metadata": {},
     "output_type": "display_data"
    }
   ],
   "source": [
    "plt.figure(figsize=(12,6))      # do not change this line\n",
    "\n",
    "plt.subplot(121)                # do not change this line\n",
    "# (1) predictions vs observations\n",
    "plt.scatter(x = y_test, y = test_predict)\n",
    "plt.plot([0.1,0.16],[0.1,0.16],color='black')\n",
    "plt.xlabel('$y$')\n",
    "plt.ylabel('$\\\\hat{y}$')\n",
    "\n",
    "plt.subplot(122)               # do not change this line\n",
    "# (2) residual plot\n",
    "plt.scatter(x=test_predict,y=y_test-test_predict)\n",
    "plt.plot([0.1,0.16],[0.0,0.0],color='black')\n",
    "plt.xlabel('$\\\\hat{y}$')\n",
    "plt.ylabel('$y-\\\\hat{y}$')\n",
    "\n",
    "plt.tight_layout()             # do not change this line"
   ]
  },
  {
   "cell_type": "markdown",
   "id": "2c81d15b",
   "metadata": {
    "deletable": false,
    "editable": false
   },
   "source": [
    "<!-- END QUESTION -->\n",
    "\n",
    "<!-- BEGIN QUESTION -->\n",
    "\n",
    "### Question 3c\n",
    "\n",
    "Describe what the plots in part (b) indicates about this linear model. Justify your answer.\n",
    "\n",
    "<!--\n",
    "BEGIN QUESTION\n",
    "name: q3c\n",
    "points: 3\n",
    "manual: True\n",
    "-->"
   ]
  },
  {
   "cell_type": "markdown",
   "id": "77b8111f",
   "metadata": {},
   "source": [
    "_Type your answer here, replacing this text._"
   ]
  },
  {
   "cell_type": "markdown",
   "id": "fe802b2c",
   "metadata": {},
   "source": [
    "<!-- END QUESTION -->\n",
    "\n",
    "\n",
    "\n",
    "<br/><br/><br/>\n",
    "\n",
    "<hr style=\"border: 5px solid #003262;\" />\n",
    "<hr style=\"border: 1px solid #fdb515;\" />\n",
    "\n",
    "## Question 4: Performing Multicollinearity Analysis\n",
    "\n",
    "This question will guide you through performing an analysis that can reveal potential multicollinearity in our features, which is unideal.\n",
    "\n",
    "Note that any answer responses without the appropriate work (i.e. code or math) will be subject to additional review and will not receive any credit."
   ]
  },
  {
   "cell_type": "markdown",
   "id": "d179ec36",
   "metadata": {
    "deletable": false,
    "editable": false
   },
   "source": [
    "### Question 4a\n",
    "\n",
    "Fill in the blanks below to implement the `bootstrap_sample` function, that returns $k$ randomly drawn samples from a dataset $\\mathcal{D}$ of size $n$ with replacement, each of size $n$ (i.e. same size as the dataset). In other words, the returned object should be a Python list `samples` containing $k$ Pandas DataFrames, each of which have $n$ rows.\n",
    "\n",
    "*Hint*: Take a look at the [documentation](https://pandas.pydata.org/docs/reference/api/pandas.DataFrame.sample.html) for `df.sample`!\n",
    "\n",
    "<!--\n",
    "BEGIN QUESTION\n",
    "name: q4a\n",
    "points: 5\n",
    "-->"
   ]
  },
  {
   "cell_type": "code",
   "execution_count": 69,
   "id": "dc9156a2",
   "metadata": {},
   "outputs": [
    {
     "data": {
      "text/html": [
       "<div>\n",
       "<style scoped>\n",
       "    .dataframe tbody tr th:only-of-type {\n",
       "        vertical-align: middle;\n",
       "    }\n",
       "\n",
       "    .dataframe tbody tr th {\n",
       "        vertical-align: top;\n",
       "    }\n",
       "\n",
       "    .dataframe thead th {\n",
       "        text-align: right;\n",
       "    }\n",
       "</style>\n",
       "<table border=\"1\" class=\"dataframe\">\n",
       "  <thead>\n",
       "    <tr style=\"text-align: right;\">\n",
       "      <th></th>\n",
       "      <th>NEVER</th>\n",
       "      <th>RARELY</th>\n",
       "      <th>SOMETIMES</th>\n",
       "      <th>FREQUENTLY</th>\n",
       "      <th>ALWAYS</th>\n",
       "      <th>9/12/2021_cpc</th>\n",
       "    </tr>\n",
       "  </thead>\n",
       "  <tbody>\n",
       "    <tr>\n",
       "      <th>340</th>\n",
       "      <td>0.046</td>\n",
       "      <td>0.125</td>\n",
       "      <td>0.120</td>\n",
       "      <td>0.249</td>\n",
       "      <td>0.460</td>\n",
       "      <td>0.211911</td>\n",
       "    </tr>\n",
       "    <tr>\n",
       "      <th>1968</th>\n",
       "      <td>0.086</td>\n",
       "      <td>0.065</td>\n",
       "      <td>0.131</td>\n",
       "      <td>0.175</td>\n",
       "      <td>0.542</td>\n",
       "      <td>0.163311</td>\n",
       "    </tr>\n",
       "    <tr>\n",
       "      <th>703</th>\n",
       "      <td>0.059</td>\n",
       "      <td>0.104</td>\n",
       "      <td>0.170</td>\n",
       "      <td>0.220</td>\n",
       "      <td>0.447</td>\n",
       "      <td>0.115582</td>\n",
       "    </tr>\n",
       "    <tr>\n",
       "      <th>317</th>\n",
       "      <td>0.005</td>\n",
       "      <td>0.001</td>\n",
       "      <td>0.035</td>\n",
       "      <td>0.103</td>\n",
       "      <td>0.856</td>\n",
       "      <td>0.125834</td>\n",
       "    </tr>\n",
       "    <tr>\n",
       "      <th>2665</th>\n",
       "      <td>0.035</td>\n",
       "      <td>0.122</td>\n",
       "      <td>0.148</td>\n",
       "      <td>0.142</td>\n",
       "      <td>0.553</td>\n",
       "      <td>0.155487</td>\n",
       "    </tr>\n",
       "    <tr>\n",
       "      <th>...</th>\n",
       "      <td>...</td>\n",
       "      <td>...</td>\n",
       "      <td>...</td>\n",
       "      <td>...</td>\n",
       "      <td>...</td>\n",
       "      <td>...</td>\n",
       "    </tr>\n",
       "    <tr>\n",
       "      <th>1923</th>\n",
       "      <td>0.038</td>\n",
       "      <td>0.030</td>\n",
       "      <td>0.061</td>\n",
       "      <td>0.127</td>\n",
       "      <td>0.745</td>\n",
       "      <td>0.118566</td>\n",
       "    </tr>\n",
       "    <tr>\n",
       "      <th>1714</th>\n",
       "      <td>0.261</td>\n",
       "      <td>0.119</td>\n",
       "      <td>0.124</td>\n",
       "      <td>0.273</td>\n",
       "      <td>0.223</td>\n",
       "      <td>0.110919</td>\n",
       "    </tr>\n",
       "    <tr>\n",
       "      <th>596</th>\n",
       "      <td>0.070</td>\n",
       "      <td>0.055</td>\n",
       "      <td>0.108</td>\n",
       "      <td>0.218</td>\n",
       "      <td>0.549</td>\n",
       "      <td>0.146353</td>\n",
       "    </tr>\n",
       "    <tr>\n",
       "      <th>450</th>\n",
       "      <td>0.063</td>\n",
       "      <td>0.139</td>\n",
       "      <td>0.116</td>\n",
       "      <td>0.264</td>\n",
       "      <td>0.417</td>\n",
       "      <td>0.130497</td>\n",
       "    </tr>\n",
       "    <tr>\n",
       "      <th>556</th>\n",
       "      <td>0.155</td>\n",
       "      <td>0.107</td>\n",
       "      <td>0.102</td>\n",
       "      <td>0.130</td>\n",
       "      <td>0.506</td>\n",
       "      <td>0.113634</td>\n",
       "    </tr>\n",
       "  </tbody>\n",
       "</table>\n",
       "<p>3141 rows × 6 columns</p>\n",
       "</div>"
      ],
      "text/plain": [
       "      NEVER  RARELY  SOMETIMES  FREQUENTLY  ALWAYS  9/12/2021_cpc\n",
       "340   0.046   0.125      0.120       0.249   0.460       0.211911\n",
       "1968  0.086   0.065      0.131       0.175   0.542       0.163311\n",
       "703   0.059   0.104      0.170       0.220   0.447       0.115582\n",
       "317   0.005   0.001      0.035       0.103   0.856       0.125834\n",
       "2665  0.035   0.122      0.148       0.142   0.553       0.155487\n",
       "...     ...     ...        ...         ...     ...            ...\n",
       "1923  0.038   0.030      0.061       0.127   0.745       0.118566\n",
       "1714  0.261   0.119      0.124       0.273   0.223       0.110919\n",
       "596   0.070   0.055      0.108       0.218   0.549       0.146353\n",
       "450   0.063   0.139      0.116       0.264   0.417       0.130497\n",
       "556   0.155   0.107      0.102       0.130   0.506       0.113634\n",
       "\n",
       "[3141 rows x 6 columns]"
      ]
     },
     "execution_count": 69,
     "metadata": {},
     "output_type": "execute_result"
    }
   ],
   "source": [
    "def bootstrap_sample(data, k):\n",
    "    \"\"\"\n",
    "    Performs bootstrap sampling on data to obtain k samples of size n.\n",
    "    \n",
    "    Arguments:\n",
    "        data - Dataset contained as a Pandas DataFrame \n",
    "        k - Number of randomly drawn samples\n",
    "    \n",
    "    Returns:\n",
    "        samples - List containing k Pandas DataFrames of size n each\n",
    "                  corresponding to each sample  \n",
    "    \"\"\"\n",
    "    samples = []\n",
    "    for i in range(k):\n",
    "        sample = data.sample(n=len(data), replace=True)\n",
    "        samples.append(sample)\n",
    "    return samples\n",
    "\n",
    "...\n",
    "bootstrap_sample(mask_data, 1)[0]"
   ]
  },
  {
   "cell_type": "code",
   "execution_count": 70,
   "id": "a0f19afd",
   "metadata": {
    "deletable": false,
    "editable": false
   },
   "outputs": [
    {
     "data": {
      "text/html": [
       "<p><strong><pre style='display: inline;'>q4a</pre></strong> passed! 🌟</p>"
      ],
      "text/plain": [
       "q4a results: All test cases passed!"
      ]
     },
     "execution_count": 70,
     "metadata": {},
     "output_type": "execute_result"
    }
   ],
   "source": [
    "grader.check(\"q4a\")"
   ]
  },
  {
   "cell_type": "markdown",
   "id": "3b83211d",
   "metadata": {
    "deletable": false,
    "editable": false
   },
   "source": [
    "### Question 4b\n",
    "\n",
    "Using the function from the previous part, generate 1000 bootstrapped samples from the original `mask_data` dataframe. Use Scikit-learn to fit a linear regression model of mask features (with an intercept term) to predict the `9/12/2021_cpc` response. You should fit your model to **each** of the 1000 datasets such that we have 1000 trained models. Make sure to store each of the 1000 trained models in the Python list `models`.\n",
    "\n",
    "Note: You *should not* create any validation or testing sets in this subpart; you should fit your model to the entire resampled dataframe.\n",
    "\n",
    "<!--\n",
    "BEGIN QUESTION\n",
    "name: q4b\n",
    "points: 5\n",
    "-->"
   ]
  },
  {
   "cell_type": "code",
   "execution_count": 71,
   "id": "e2a1c3eb",
   "metadata": {},
   "outputs": [],
   "source": [
    "np.random.seed(42)\n",
    "\n",
    "datasets = bootstrap_sample(mask_data,1000)\n",
    "models = []\n",
    "\n",
    "for data in datasets:\n",
    "    model = lm.LinearRegression(fit_intercept=True)\n",
    "    model.fit(data.iloc[:,:-1],data.iloc[:,-1])\n",
    "    models.append(model)\n",
    "\n",
    "\n",
    "# These take up a lot of memory, so we should remove them!\n",
    "del datasets"
   ]
  },
  {
   "cell_type": "code",
   "execution_count": 72,
   "id": "4e28bb88",
   "metadata": {
    "deletable": false,
    "editable": false
   },
   "outputs": [
    {
     "data": {
      "text/html": [
       "<p><strong><pre style='display: inline;'>q4b</pre></strong> passed! 💯</p>"
      ],
      "text/plain": [
       "q4b results: All test cases passed!"
      ]
     },
     "execution_count": 72,
     "metadata": {},
     "output_type": "execute_result"
    }
   ],
   "source": [
    "grader.check(\"q4b\")"
   ]
  },
  {
   "cell_type": "markdown",
   "id": "66fb5cb5",
   "metadata": {
    "deletable": false,
    "editable": false
   },
   "source": [
    "### Question 4c\n",
    "\n",
    "Fill in the blanks below in the `confidence_interval` function to generate a 95% confidence interval for each of our parameters $\\theta_i$, including an intercept term if applicable. All of the helper code to extract coefficients from our trained models has been implemented for you already.\n",
    "\n",
    "<!--\n",
    "BEGIN QUESTION\n",
    "name: q4c\n",
    "points: 2\n",
    "-->"
   ]
  },
  {
   "cell_type": "code",
   "execution_count": 73,
   "id": "96150d23",
   "metadata": {},
   "outputs": [
    {
     "data": {
      "text/markdown": [
       "#### Confidence Intervals:"
      ],
      "text/plain": [
       "<IPython.core.display.Markdown object>"
      ]
     },
     "metadata": {},
     "output_type": "display_data"
    },
    {
     "data": {
      "text/markdown": [
       "|parameter|lower|upper|\n",
       "----|----|----|\n",
       "|$\\theta_0$|-2.6200726729048043|1.2507871842262452|\n",
       "|$\\theta_1$|-1.0896828874132662|2.798332585238293|\n",
       "|$\\theta_2$|-1.1461331540817712|2.744519025435912|\n",
       "|$\\theta_3$|-1.0182943692227737|2.8436420433763505|\n",
       "|$\\theta_4$|-1.1582158941592147|2.7329392573407447|\n",
       "|$\\theta_5$|-1.1477854499078033|2.719510905202859|"
      ],
      "text/plain": [
       "<IPython.core.display.Markdown object>"
      ]
     },
     "metadata": {},
     "output_type": "display_data"
    }
   ],
   "source": [
    "def extract_coefs(models, include_intercept = True):\n",
    "    \"\"\"\n",
    "    NOTE: This function has already been implemented. You do not need to modify this!\n",
    "    \n",
    "    Extracts coefficients of all the linear regression models in models, and returns\n",
    "    it as a NumPy array with one model's coefficients as each row.\n",
    "    \n",
    "    Arguments:\n",
    "        models - Contains k sklearn LinearRegression models, each with p + 1 coefficients\n",
    "        include_intercept - Whether to include intercept in returned coefficients\n",
    "    \n",
    "    Returns:\n",
    "        coef_array - Coefficients of all k models, each with p + 1 coefficients (if intercept\n",
    "                     enabled, otherwise p). Returned object is k x (p + 1) NumPy array.\n",
    "    \"\"\"\n",
    "    coef_array = np.zeros(shape = (len(models), len(models[0].coef_) + 1))\n",
    "    for i, m in enumerate(models):\n",
    "        coef_array[i, 0] = m.intercept_\n",
    "        coef_array[i, 1:] = m.coef_\n",
    "    if include_intercept:\n",
    "        return coef_array \n",
    "    return coef_array[:, 1:]\n",
    "\n",
    "def confidence_interval(coefs):\n",
    "    \"\"\"\n",
    "    Calculates confidence intervals for each theta_i based on coefficients of \n",
    "    bootstrapped models. Returns output as a list of confidence intervals.\n",
    "    \n",
    "    Arguments:\n",
    "        coefs - Output of extract_coefs, a k x (p + 1) or k x p NumPy array containing\n",
    "                coefficients of bootstrapped models\n",
    "    \n",
    "    Returns:\n",
    "        cis - Confidence intervals of each parameter theta_i in the form of a \n",
    "              list like this: [(0.5, 0.75), (0.2, 0.4), ...]\n",
    "    \"\"\"\n",
    "    cis = []\n",
    "    \n",
    "    # FILL IN CODE BELOW\n",
    "    for i in range(coefs.shape[1]):\n",
    "        theta_i_values = coefs[:, i]\n",
    "        theta_i_lower_ci, theta_i_upper_ci = np.percentile(theta_i_values,2.5), np.percentile(theta_i_values,97.5)\n",
    "        cis.append((theta_i_lower_ci, theta_i_upper_ci))\n",
    "    \n",
    "    return cis\n",
    "\n",
    "...\n",
    "\n",
    "# compute confidence intervals\n",
    "model_coefs = extract_coefs(models)\n",
    "cis = confidence_interval(model_coefs)\n",
    "\n",
    "# pretty print in a table\n",
    "display(Markdown('#### Confidence Intervals:'))\n",
    "md_list = [\"|parameter|lower|upper|\",\n",
    "           \"----|----|----|\"]\n",
    "md_list += [fr\"|$\\theta_{i}$|{lci}|{uci}|\" for i, (lci, uci) in enumerate(cis)]\n",
    "display(Markdown('\\n'.join(md_list)))"
   ]
  },
  {
   "cell_type": "code",
   "execution_count": 74,
   "id": "896b9a21",
   "metadata": {
    "deletable": false,
    "editable": false
   },
   "outputs": [
    {
     "data": {
      "text/html": [
       "<p><strong><pre style='display: inline;'>q4c</pre></strong> passed! 🌟</p>"
      ],
      "text/plain": [
       "q4c results: All test cases passed!"
      ]
     },
     "execution_count": 74,
     "metadata": {},
     "output_type": "execute_result"
    }
   ],
   "source": [
    "grader.check(\"q4c\")"
   ]
  },
  {
   "cell_type": "markdown",
   "id": "ee1a2e81",
   "metadata": {
    "deletable": false,
    "editable": false
   },
   "source": [
    "<!-- BEGIN QUESTION -->\n",
    "\n",
    "### Question 4d\n",
    "\n",
    "Interpret the confidence intervals above for each of the $\\theta_i$, where $\\theta_0$ is the intercept term and the remaining $\\theta_i$ for $i > 0$ are parameters corresponding to mask usage features. What does this indicate about our data and our model?\n",
    "\n",
    "Describe a mathematical reason why this could be happening.\n",
    "\n",
    "*Hint*: Take a look at the design matrix!\n",
    "\n",
    "<!--\n",
    "BEGIN QUESTION\n",
    "name: q4d\n",
    "points: 3\n",
    "manual: True\n",
    "-->"
   ]
  },
  {
   "cell_type": "markdown",
   "id": "4dab6710",
   "metadata": {},
   "source": [
    "_Type your answer here, replacing this text._"
   ]
  },
  {
   "cell_type": "markdown",
   "id": "78069e4a",
   "metadata": {},
   "source": [
    "<!-- END QUESTION -->\n",
    "\n",
    "\n",
    "\n",
    "<br/><br/><br/>\n",
    "\n",
    "<hr style=\"border: 5px solid #003262;\" />\n",
    "<hr style=\"border: 1px solid #fdb515;\" />\n",
    "\n",
    "## Question 5: Performing Bias-Variance Analysis\n",
    "\n",
    "This question will guide you through performing an analysis that can estimate the bias and variance of our models, which can be helpful in modeling.\n",
    "\n",
    "Note that any answer responses without the appropriate work (i.e. code or explanation) will be subject to additional review and will not receive any credit."
   ]
  },
  {
   "cell_type": "markdown",
   "id": "c20ff1b3",
   "metadata": {
    "deletable": false,
    "editable": false
   },
   "source": [
    "### Question 5a\n",
    "\n",
    "We will use the same bootstrapped models contained in the Python list `models` to estimate our **model variance**. To do this, recall that the model variance on a data point is simply the variance of our predictions on that sample point. From the bias-variance decomposition in lecture, for a parametric model $\\hat{Y}(x) = f_{\\hat{\\theta}}(x)$:\n",
    "\n",
    "$$\\text{model variance} = \\mathrm{Var}(f_{\\hat{\\theta}}(x))$$\n",
    "\n",
    "To investigate the variance in our test predictions, we sample a particular data point $(x_i, y_i)$. Define the **model risk** for this point as the mean square error over all possible fitted models:\n",
    "\n",
    "$$\\mathbb{E}\\left[\\left(y_i - f_{\\hat{\\theta}}(x_i)\\right)^2\\right]$$\n",
    "\n",
    "Note that in contrast to lecture, you are considering a particular observation of the random response variable $Y = y_i$. Therefore model risk is an expectation over the estimate $\\hat{\\theta}$, which is a function of the random sample you used to fit your model.\n",
    "\n",
    "Using the bootstrapped estimates `models`, approximate the ratio of model variance to model risk for the datapoint $i = 100$, i.e., $(x_{100}, y_{100})$. You can interpret this ratio as the the proportion of the expected square error on the data point \"captured\" by the model variance. Since you bootstrapped 1000 models, you can generate 1000 predictions for the given $x_i$. Recall that `X` is the design matrix of mask features, and `y` is the `9/12/2021_cpc` response.\n",
    "\n",
    "Assign `prop_var` to the computed, approximate ratio:\n",
    "\n",
    "$$\n",
    "\\frac{\\mathrm{Var}\\left(f_{\\hat{\\theta}}(x_{100})\\right)}{\\mathbb{E}\\left[\\left(y_{100} - f_{\\hat{\\theta}}(x_{100})\\right)^2\\right]}\n",
    "$$\n",
    "<!--\n",
    "BEGIN QUESTION\n",
    "name: q5a\n",
    "points: 3\n",
    "-->"
   ]
  },
  {
   "cell_type": "code",
   "execution_count": 75,
   "id": "92a0f827",
   "metadata": {},
   "outputs": [
    {
     "data": {
      "text/plain": [
       "0.0013169176499108828"
      ]
     },
     "execution_count": 75,
     "metadata": {},
     "output_type": "execute_result"
    }
   ],
   "source": [
    "x_100 = mask_data.iloc[[100],:-1]\n",
    "y_100 = mask_data.iloc[100,-1]\n",
    "f_theta = [m.predict(x_100) for m in models]\n",
    "prop_var = np.var(f_theta) /np.mean((f_theta-y_100)**2)\n",
    "\n",
    "...\n",
    "prop_var"
   ]
  },
  {
   "cell_type": "code",
   "execution_count": 76,
   "id": "d5b3425b",
   "metadata": {
    "deletable": false,
    "editable": false
   },
   "outputs": [
    {
     "data": {
      "text/html": [
       "<p><strong><pre style='display: inline;'>q5a</pre></strong> passed! 🌟</p>"
      ],
      "text/plain": [
       "q5a results: All test cases passed!"
      ]
     },
     "execution_count": 76,
     "metadata": {},
     "output_type": "execute_result"
    }
   ],
   "source": [
    "grader.check(\"q5a\")"
   ]
  },
  {
   "cell_type": "markdown",
   "id": "8b47535c",
   "metadata": {
    "deletable": false,
    "editable": false
   },
   "source": [
    "<!-- BEGIN QUESTION -->\n",
    "\n",
    "### Question 5b\n",
    "\n",
    "Comment on the ratio `prop_var`, which is the proportion of the expected square error on the data point captured by the model variance. Is the model variance the dominant term in the bias-variance decomposition? If not, what term(s) dominate the bias-variance decomposition?\n",
    "\n",
    "Justify your answer.\n",
    "\n",
    "<!--\n",
    "BEGIN QUESTION\n",
    "name: q5b\n",
    "points: 3\n",
    "manual: True\n",
    "-->"
   ]
  },
  {
   "cell_type": "markdown",
   "id": "cce8aed4",
   "metadata": {},
   "source": [
    "_Type your answer here, replacing this text._"
   ]
  },
  {
   "cell_type": "markdown",
   "id": "96465bc7",
   "metadata": {
    "deletable": false,
    "editable": false
   },
   "source": [
    "<!-- END QUESTION -->\n",
    "\n",
    "### Question 5c\n",
    "\n",
    "Using the bias-variance decomposition above, calculate the average variance and average mean square error across 250 randomly sampled $(x_i, y_i)$ points. In other words, estimate the following quantities across all $x_i$ and $y_i$ in `X_sample` and `y_sample`:\n",
    "\n",
    "$$\n",
    "\\frac{1}{250} \\sum_{i=1}^{250} \\mathrm{Var}\\left(f_{\\hat{\\theta}}(x_i)\\right)\n",
    "$$\n",
    "\n",
    "and\n",
    "\n",
    "$$\n",
    "\\frac{1}{250} \\sum_{i=1}^{250} \\mathbb{E}\\left[\\left(y_i - f_{\\hat{\\theta}}(x_i)\\right)^2\\right]\n",
    "$$\n",
    "\n",
    "<!--\n",
    "BEGIN QUESTION\n",
    "name: q5c\n",
    "points: 3\n",
    "manual: False\n",
    "-->"
   ]
  },
  {
   "cell_type": "code",
   "execution_count": 77,
   "id": "640ad45a",
   "metadata": {},
   "outputs": [
    {
     "data": {
      "text/plain": [
       "(2.534598482254924e-06, 0.001609776631080761)"
      ]
     },
     "execution_count": 77,
     "metadata": {},
     "output_type": "execute_result"
    }
   ],
   "source": [
    "np.random.seed(42)\n",
    "\n",
    "X_sample = X.sample(250)         # generate 250 x_i\n",
    "y_sample = y.loc[X_sample.index] # ...and select the corresponding y_i\n",
    "\n",
    "y_predicts = np.zeros((X_sample.shape[0],len(models)))\n",
    "\n",
    "for idx in range(len(models)):\n",
    "    y_predicts[:,idx] = models[idx].predict(X_sample)\n",
    "\n",
    "# y_predicts\n",
    "avg_var, avg_mse = np.mean([np.var(y_predicts[l]) for l in range(X_sample.shape[0])]), np.mean([np.mean((y_sample.iloc[:,0].values[l]-y_predicts[l])**2) for l in range(X_sample.shape[0])])\n",
    "...\n",
    "avg_var, avg_mse"
   ]
  },
  {
   "cell_type": "code",
   "execution_count": 78,
   "id": "d46c1b95",
   "metadata": {
    "deletable": false,
    "editable": false
   },
   "outputs": [
    {
     "data": {
      "text/html": [
       "<p><strong><pre style='display: inline;'>q5c</pre></strong> passed! 🌟</p>"
      ],
      "text/plain": [
       "q5c results: All test cases passed!"
      ]
     },
     "execution_count": 78,
     "metadata": {},
     "output_type": "execute_result"
    }
   ],
   "source": [
    "grader.check(\"q5c\")"
   ]
  },
  {
   "cell_type": "markdown",
   "id": "81ec3823",
   "metadata": {
    "deletable": false,
    "editable": false
   },
   "source": [
    "<!-- BEGIN QUESTION -->\n",
    "\n",
    "### Question 5d\n",
    "\n",
    "Propose a solution to reducing the mean square error using the insights gained from the bias-variance decomposition above. Please show all quantities and work that informs your analysis.\n",
    "\n",
    "Assume that the standard bias-variance decomposition used in lecture can be applied here.\n",
    "<!--\n",
    "BEGIN QUESTION\n",
    "name: q5d\n",
    "points: 2\n",
    "manual: True\n",
    "-->"
   ]
  },
  {
   "cell_type": "markdown",
   "id": "e5bacede",
   "metadata": {},
   "source": [
    "_Type your answer here, replacing this text._"
   ]
  },
  {
   "cell_type": "markdown",
   "id": "3dad6766",
   "metadata": {
    "tags": []
   },
   "source": [
    "<!-- END QUESTION -->\n",
    "\n",
    "\n",
    "\n",
    "<br/><br/><br/>\n",
    "\n",
    "<hr style=\"border: 5px solid #003262;\" />\n",
    "<hr style=\"border: 1px solid #fdb515;\" />\n",
    "\n",
    "## Question 6: Improving our Model\n",
    "\n"
   ]
  },
  {
   "cell_type": "markdown",
   "id": "9c889ec0",
   "metadata": {
    "deletable": false,
    "editable": false
   },
   "source": [
    "### Question 6a\n",
    "\n",
    "Suppose we decide to add a feature to our model corresponding to the number of cases per capita the week before (i.e. September 5, 2021). Calculate the cases per capita on September 5, 2021 from the original `covid_data` table, and store it in `mask_data` as a column named `'9/5/2021_cpc'`.\n",
    "\n",
    "*Hint*: This should be similar to Question 2a!\n",
    "\n",
    "<!--\n",
    "BEGIN QUESTION\n",
    "name: q6a\n",
    "points: 1\n",
    "-->"
   ]
  },
  {
   "cell_type": "code",
   "execution_count": 79,
   "id": "c26e862e",
   "metadata": {},
   "outputs": [
    {
     "data": {
      "text/html": [
       "<div>\n",
       "<style scoped>\n",
       "    .dataframe tbody tr th:only-of-type {\n",
       "        vertical-align: middle;\n",
       "    }\n",
       "\n",
       "    .dataframe tbody tr th {\n",
       "        vertical-align: top;\n",
       "    }\n",
       "\n",
       "    .dataframe thead th {\n",
       "        text-align: right;\n",
       "    }\n",
       "</style>\n",
       "<table border=\"1\" class=\"dataframe\">\n",
       "  <thead>\n",
       "    <tr style=\"text-align: right;\">\n",
       "      <th></th>\n",
       "      <th>NEVER</th>\n",
       "      <th>RARELY</th>\n",
       "      <th>SOMETIMES</th>\n",
       "      <th>FREQUENTLY</th>\n",
       "      <th>ALWAYS</th>\n",
       "      <th>9/12/2021_cpc</th>\n",
       "      <th>9/5/2021_cpc</th>\n",
       "    </tr>\n",
       "  </thead>\n",
       "  <tbody>\n",
       "    <tr>\n",
       "      <th>0</th>\n",
       "      <td>0.053</td>\n",
       "      <td>0.074</td>\n",
       "      <td>0.134</td>\n",
       "      <td>0.295</td>\n",
       "      <td>0.444</td>\n",
       "      <td>0.165411</td>\n",
       "      <td>0.160513</td>\n",
       "    </tr>\n",
       "    <tr>\n",
       "      <th>1</th>\n",
       "      <td>0.083</td>\n",
       "      <td>0.059</td>\n",
       "      <td>0.098</td>\n",
       "      <td>0.323</td>\n",
       "      <td>0.436</td>\n",
       "      <td>0.152429</td>\n",
       "      <td>0.148561</td>\n",
       "    </tr>\n",
       "    <tr>\n",
       "      <th>2</th>\n",
       "      <td>0.067</td>\n",
       "      <td>0.121</td>\n",
       "      <td>0.120</td>\n",
       "      <td>0.201</td>\n",
       "      <td>0.491</td>\n",
       "      <td>0.134003</td>\n",
       "      <td>0.129489</td>\n",
       "    </tr>\n",
       "    <tr>\n",
       "      <th>3</th>\n",
       "      <td>0.020</td>\n",
       "      <td>0.034</td>\n",
       "      <td>0.096</td>\n",
       "      <td>0.278</td>\n",
       "      <td>0.572</td>\n",
       "      <td>0.171440</td>\n",
       "      <td>0.163896</td>\n",
       "    </tr>\n",
       "    <tr>\n",
       "      <th>4</th>\n",
       "      <td>0.053</td>\n",
       "      <td>0.114</td>\n",
       "      <td>0.180</td>\n",
       "      <td>0.194</td>\n",
       "      <td>0.459</td>\n",
       "      <td>0.158538</td>\n",
       "      <td>0.153113</td>\n",
       "    </tr>\n",
       "    <tr>\n",
       "      <th>...</th>\n",
       "      <td>...</td>\n",
       "      <td>...</td>\n",
       "      <td>...</td>\n",
       "      <td>...</td>\n",
       "      <td>...</td>\n",
       "      <td>...</td>\n",
       "      <td>...</td>\n",
       "    </tr>\n",
       "    <tr>\n",
       "      <th>3136</th>\n",
       "      <td>0.061</td>\n",
       "      <td>0.295</td>\n",
       "      <td>0.230</td>\n",
       "      <td>0.146</td>\n",
       "      <td>0.268</td>\n",
       "      <td>0.143205</td>\n",
       "      <td>0.135706</td>\n",
       "    </tr>\n",
       "    <tr>\n",
       "      <th>3137</th>\n",
       "      <td>0.095</td>\n",
       "      <td>0.157</td>\n",
       "      <td>0.160</td>\n",
       "      <td>0.247</td>\n",
       "      <td>0.340</td>\n",
       "      <td>0.196238</td>\n",
       "      <td>0.191599</td>\n",
       "    </tr>\n",
       "    <tr>\n",
       "      <th>3138</th>\n",
       "      <td>0.098</td>\n",
       "      <td>0.278</td>\n",
       "      <td>0.154</td>\n",
       "      <td>0.207</td>\n",
       "      <td>0.264</td>\n",
       "      <td>0.158496</td>\n",
       "      <td>0.151026</td>\n",
       "    </tr>\n",
       "    <tr>\n",
       "      <th>3139</th>\n",
       "      <td>0.204</td>\n",
       "      <td>0.155</td>\n",
       "      <td>0.069</td>\n",
       "      <td>0.285</td>\n",
       "      <td>0.287</td>\n",
       "      <td>0.144330</td>\n",
       "      <td>0.139175</td>\n",
       "    </tr>\n",
       "    <tr>\n",
       "      <th>3140</th>\n",
       "      <td>0.142</td>\n",
       "      <td>0.129</td>\n",
       "      <td>0.148</td>\n",
       "      <td>0.207</td>\n",
       "      <td>0.374</td>\n",
       "      <td>0.122942</td>\n",
       "      <td>0.118938</td>\n",
       "    </tr>\n",
       "  </tbody>\n",
       "</table>\n",
       "<p>3141 rows × 7 columns</p>\n",
       "</div>"
      ],
      "text/plain": [
       "      NEVER  RARELY  SOMETIMES  FREQUENTLY  ALWAYS  9/12/2021_cpc  \\\n",
       "0     0.053   0.074      0.134       0.295   0.444       0.165411   \n",
       "1     0.083   0.059      0.098       0.323   0.436       0.152429   \n",
       "2     0.067   0.121      0.120       0.201   0.491       0.134003   \n",
       "3     0.020   0.034      0.096       0.278   0.572       0.171440   \n",
       "4     0.053   0.114      0.180       0.194   0.459       0.158538   \n",
       "...     ...     ...        ...         ...     ...            ...   \n",
       "3136  0.061   0.295      0.230       0.146   0.268       0.143205   \n",
       "3137  0.095   0.157      0.160       0.247   0.340       0.196238   \n",
       "3138  0.098   0.278      0.154       0.207   0.264       0.158496   \n",
       "3139  0.204   0.155      0.069       0.285   0.287       0.144330   \n",
       "3140  0.142   0.129      0.148       0.207   0.374       0.122942   \n",
       "\n",
       "      9/5/2021_cpc  \n",
       "0         0.160513  \n",
       "1         0.148561  \n",
       "2         0.129489  \n",
       "3         0.163896  \n",
       "4         0.153113  \n",
       "...            ...  \n",
       "3136      0.135706  \n",
       "3137      0.191599  \n",
       "3138      0.151026  \n",
       "3139      0.139175  \n",
       "3140      0.118938  \n",
       "\n",
       "[3141 rows x 7 columns]"
      ]
     },
     "execution_count": 79,
     "metadata": {},
     "output_type": "execute_result"
    }
   ],
   "source": [
    "mask_data['9/5/2021_cpc'] = covid_data['9/5/21']/covid_data[\"POPESTIMATE2020\"]\n",
    "mask_data"
   ]
  },
  {
   "cell_type": "code",
   "execution_count": 80,
   "id": "c5fd3cdb",
   "metadata": {
    "deletable": false,
    "editable": false
   },
   "outputs": [
    {
     "data": {
      "text/html": [
       "<p><strong><pre style='display: inline;'>q6a</pre></strong> passed! ✨</p>"
      ],
      "text/plain": [
       "q6a results: All test cases passed!"
      ]
     },
     "execution_count": 80,
     "metadata": {},
     "output_type": "execute_result"
    }
   ],
   "source": [
    "grader.check(\"q6a\")"
   ]
  },
  {
   "cell_type": "markdown",
   "id": "37ef88b0",
   "metadata": {
    "deletable": false,
    "editable": false
   },
   "source": [
    "### Question 6b\n",
    "\n",
    "Add the feature that we generated in the previous subpart into our design matrix, and train a Scikit-Learn linear regression model **without an intercept term**. Use `train_test_split` to evaluate your model's RMSE on a held-out validation set with 33% of the county-wise data `mask_data`.\n",
    "\n",
    "To pass the autograder, make sure to set the parameter `random_state` to 42 in your call to `train_test_split`.\n",
    "\n",
    "*Hint:* This should be similar to Question 3a!\n",
    "\n",
    "<!--\n",
    "BEGIN QUESTION\n",
    "name: q6b\n",
    "points: 3\n",
    "-->"
   ]
  },
  {
   "cell_type": "code",
   "execution_count": 90,
   "id": "5f7d96af",
   "metadata": {},
   "outputs": [
    {
     "data": {
      "text/html": [
       "<div>\n",
       "<style scoped>\n",
       "    .dataframe tbody tr th:only-of-type {\n",
       "        vertical-align: middle;\n",
       "    }\n",
       "\n",
       "    .dataframe tbody tr th {\n",
       "        vertical-align: top;\n",
       "    }\n",
       "\n",
       "    .dataframe thead th {\n",
       "        text-align: right;\n",
       "    }\n",
       "</style>\n",
       "<table border=\"1\" class=\"dataframe\">\n",
       "  <thead>\n",
       "    <tr style=\"text-align: right;\">\n",
       "      <th></th>\n",
       "      <th>NEVER</th>\n",
       "      <th>RARELY</th>\n",
       "      <th>SOMETIMES</th>\n",
       "      <th>FREQUENTLY</th>\n",
       "      <th>ALWAYS</th>\n",
       "    </tr>\n",
       "  </thead>\n",
       "  <tbody>\n",
       "    <tr>\n",
       "      <th>0</th>\n",
       "      <td>0.053</td>\n",
       "      <td>0.074</td>\n",
       "      <td>0.134</td>\n",
       "      <td>0.295</td>\n",
       "      <td>0.444</td>\n",
       "    </tr>\n",
       "    <tr>\n",
       "      <th>1</th>\n",
       "      <td>0.083</td>\n",
       "      <td>0.059</td>\n",
       "      <td>0.098</td>\n",
       "      <td>0.323</td>\n",
       "      <td>0.436</td>\n",
       "    </tr>\n",
       "    <tr>\n",
       "      <th>2</th>\n",
       "      <td>0.067</td>\n",
       "      <td>0.121</td>\n",
       "      <td>0.120</td>\n",
       "      <td>0.201</td>\n",
       "      <td>0.491</td>\n",
       "    </tr>\n",
       "    <tr>\n",
       "      <th>3</th>\n",
       "      <td>0.020</td>\n",
       "      <td>0.034</td>\n",
       "      <td>0.096</td>\n",
       "      <td>0.278</td>\n",
       "      <td>0.572</td>\n",
       "    </tr>\n",
       "    <tr>\n",
       "      <th>4</th>\n",
       "      <td>0.053</td>\n",
       "      <td>0.114</td>\n",
       "      <td>0.180</td>\n",
       "      <td>0.194</td>\n",
       "      <td>0.459</td>\n",
       "    </tr>\n",
       "    <tr>\n",
       "      <th>...</th>\n",
       "      <td>...</td>\n",
       "      <td>...</td>\n",
       "      <td>...</td>\n",
       "      <td>...</td>\n",
       "      <td>...</td>\n",
       "    </tr>\n",
       "    <tr>\n",
       "      <th>3136</th>\n",
       "      <td>0.061</td>\n",
       "      <td>0.295</td>\n",
       "      <td>0.230</td>\n",
       "      <td>0.146</td>\n",
       "      <td>0.268</td>\n",
       "    </tr>\n",
       "    <tr>\n",
       "      <th>3137</th>\n",
       "      <td>0.095</td>\n",
       "      <td>0.157</td>\n",
       "      <td>0.160</td>\n",
       "      <td>0.247</td>\n",
       "      <td>0.340</td>\n",
       "    </tr>\n",
       "    <tr>\n",
       "      <th>3138</th>\n",
       "      <td>0.098</td>\n",
       "      <td>0.278</td>\n",
       "      <td>0.154</td>\n",
       "      <td>0.207</td>\n",
       "      <td>0.264</td>\n",
       "    </tr>\n",
       "    <tr>\n",
       "      <th>3139</th>\n",
       "      <td>0.204</td>\n",
       "      <td>0.155</td>\n",
       "      <td>0.069</td>\n",
       "      <td>0.285</td>\n",
       "      <td>0.287</td>\n",
       "    </tr>\n",
       "    <tr>\n",
       "      <th>3140</th>\n",
       "      <td>0.142</td>\n",
       "      <td>0.129</td>\n",
       "      <td>0.148</td>\n",
       "      <td>0.207</td>\n",
       "      <td>0.374</td>\n",
       "    </tr>\n",
       "  </tbody>\n",
       "</table>\n",
       "<p>3141 rows × 5 columns</p>\n",
       "</div>"
      ],
      "text/plain": [
       "      NEVER  RARELY  SOMETIMES  FREQUENTLY  ALWAYS\n",
       "0     0.053   0.074      0.134       0.295   0.444\n",
       "1     0.083   0.059      0.098       0.323   0.436\n",
       "2     0.067   0.121      0.120       0.201   0.491\n",
       "3     0.020   0.034      0.096       0.278   0.572\n",
       "4     0.053   0.114      0.180       0.194   0.459\n",
       "...     ...     ...        ...         ...     ...\n",
       "3136  0.061   0.295      0.230       0.146   0.268\n",
       "3137  0.095   0.157      0.160       0.247   0.340\n",
       "3138  0.098   0.278      0.154       0.207   0.264\n",
       "3139  0.204   0.155      0.069       0.285   0.287\n",
       "3140  0.142   0.129      0.148       0.207   0.374\n",
       "\n",
       "[3141 rows x 5 columns]"
      ]
     },
     "execution_count": 90,
     "metadata": {},
     "output_type": "execute_result"
    }
   ],
   "source": [
    "mask_data.iloc[:,:-2]"
   ]
  },
  {
   "cell_type": "code",
   "execution_count": 95,
   "id": "326e1520",
   "metadata": {},
   "outputs": [
    {
     "data": {
      "text/plain": [
       "(0.002412718984782544, 0.0024269580216843244)"
      ]
     },
     "execution_count": 95,
     "metadata": {},
     "output_type": "execute_result"
    }
   ],
   "source": [
    "\n",
    "# Create train/test sets\n",
    "X_improved = mask_data.drop('9/12/2021_cpc',axis=1)\n",
    "# X_improved\n",
    "y_improved = mask_data.iloc[:,[5]]\n",
    "# y_improved\n",
    "X_improved_train, X_improved_test, y_improved_train, y_improved_test = train_test_split(X_improved,y_improved,test_size=0.33,random_state=42)\n",
    "\n",
    "# fit the linear model and make predictions\n",
    "improved_model = lm.LinearRegression(fit_intercept=False)\n",
    "improved_model.fit(X_improved_train,y_improved_train)\n",
    "\n",
    "# compute RMSE on train and test sets\n",
    "train_rmse_improved_cpc = np.sqrt(np.mean((y_improved_train-improved_model.predict(X_improved_train))**2))\n",
    "test_rmse_improved_cpc = np.sqrt(np.mean((y_improved_test-improved_model.predict(X_improved_test))**2))\n",
    "\n",
    "\n",
    "train_rmse_improved_cpc, test_rmse_improved_cpc"
   ]
  },
  {
   "cell_type": "code",
   "execution_count": 96,
   "id": "c1e11389",
   "metadata": {
    "deletable": false,
    "editable": false
   },
   "outputs": [
    {
     "data": {
      "text/html": [
       "<p><strong><pre style='display: inline;'>q6b</pre></strong> passed! 🚀</p>"
      ],
      "text/plain": [
       "q6b results: All test cases passed!"
      ]
     },
     "execution_count": 96,
     "metadata": {},
     "output_type": "execute_result"
    }
   ],
   "source": [
    "grader.check(\"q6b\")"
   ]
  },
  {
   "cell_type": "code",
   "execution_count": 97,
   "id": "bc44190c",
   "metadata": {},
   "outputs": [
    {
     "data": {
      "text/html": [
       "<div>\n",
       "<style scoped>\n",
       "    .dataframe tbody tr th:only-of-type {\n",
       "        vertical-align: middle;\n",
       "    }\n",
       "\n",
       "    .dataframe tbody tr th {\n",
       "        vertical-align: top;\n",
       "    }\n",
       "\n",
       "    .dataframe thead th {\n",
       "        text-align: right;\n",
       "    }\n",
       "</style>\n",
       "<table border=\"1\" class=\"dataframe\">\n",
       "  <thead>\n",
       "    <tr style=\"text-align: right;\">\n",
       "      <th></th>\n",
       "      <th>NEVER</th>\n",
       "      <th>RARELY</th>\n",
       "      <th>SOMETIMES</th>\n",
       "      <th>FREQUENTLY</th>\n",
       "      <th>ALWAYS</th>\n",
       "      <th>9/5/2021_cpc</th>\n",
       "    </tr>\n",
       "  </thead>\n",
       "  <tbody>\n",
       "    <tr>\n",
       "      <th>0</th>\n",
       "      <td>0.053</td>\n",
       "      <td>0.074</td>\n",
       "      <td>0.134</td>\n",
       "      <td>0.295</td>\n",
       "      <td>0.444</td>\n",
       "      <td>0.160513</td>\n",
       "    </tr>\n",
       "    <tr>\n",
       "      <th>1</th>\n",
       "      <td>0.083</td>\n",
       "      <td>0.059</td>\n",
       "      <td>0.098</td>\n",
       "      <td>0.323</td>\n",
       "      <td>0.436</td>\n",
       "      <td>0.148561</td>\n",
       "    </tr>\n",
       "    <tr>\n",
       "      <th>2</th>\n",
       "      <td>0.067</td>\n",
       "      <td>0.121</td>\n",
       "      <td>0.120</td>\n",
       "      <td>0.201</td>\n",
       "      <td>0.491</td>\n",
       "      <td>0.129489</td>\n",
       "    </tr>\n",
       "    <tr>\n",
       "      <th>3</th>\n",
       "      <td>0.020</td>\n",
       "      <td>0.034</td>\n",
       "      <td>0.096</td>\n",
       "      <td>0.278</td>\n",
       "      <td>0.572</td>\n",
       "      <td>0.163896</td>\n",
       "    </tr>\n",
       "    <tr>\n",
       "      <th>4</th>\n",
       "      <td>0.053</td>\n",
       "      <td>0.114</td>\n",
       "      <td>0.180</td>\n",
       "      <td>0.194</td>\n",
       "      <td>0.459</td>\n",
       "      <td>0.153113</td>\n",
       "    </tr>\n",
       "    <tr>\n",
       "      <th>...</th>\n",
       "      <td>...</td>\n",
       "      <td>...</td>\n",
       "      <td>...</td>\n",
       "      <td>...</td>\n",
       "      <td>...</td>\n",
       "      <td>...</td>\n",
       "    </tr>\n",
       "    <tr>\n",
       "      <th>3136</th>\n",
       "      <td>0.061</td>\n",
       "      <td>0.295</td>\n",
       "      <td>0.230</td>\n",
       "      <td>0.146</td>\n",
       "      <td>0.268</td>\n",
       "      <td>0.135706</td>\n",
       "    </tr>\n",
       "    <tr>\n",
       "      <th>3137</th>\n",
       "      <td>0.095</td>\n",
       "      <td>0.157</td>\n",
       "      <td>0.160</td>\n",
       "      <td>0.247</td>\n",
       "      <td>0.340</td>\n",
       "      <td>0.191599</td>\n",
       "    </tr>\n",
       "    <tr>\n",
       "      <th>3138</th>\n",
       "      <td>0.098</td>\n",
       "      <td>0.278</td>\n",
       "      <td>0.154</td>\n",
       "      <td>0.207</td>\n",
       "      <td>0.264</td>\n",
       "      <td>0.151026</td>\n",
       "    </tr>\n",
       "    <tr>\n",
       "      <th>3139</th>\n",
       "      <td>0.204</td>\n",
       "      <td>0.155</td>\n",
       "      <td>0.069</td>\n",
       "      <td>0.285</td>\n",
       "      <td>0.287</td>\n",
       "      <td>0.139175</td>\n",
       "    </tr>\n",
       "    <tr>\n",
       "      <th>3140</th>\n",
       "      <td>0.142</td>\n",
       "      <td>0.129</td>\n",
       "      <td>0.148</td>\n",
       "      <td>0.207</td>\n",
       "      <td>0.374</td>\n",
       "      <td>0.118938</td>\n",
       "    </tr>\n",
       "  </tbody>\n",
       "</table>\n",
       "<p>3141 rows × 6 columns</p>\n",
       "</div>"
      ],
      "text/plain": [
       "      NEVER  RARELY  SOMETIMES  FREQUENTLY  ALWAYS  9/5/2021_cpc\n",
       "0     0.053   0.074      0.134       0.295   0.444      0.160513\n",
       "1     0.083   0.059      0.098       0.323   0.436      0.148561\n",
       "2     0.067   0.121      0.120       0.201   0.491      0.129489\n",
       "3     0.020   0.034      0.096       0.278   0.572      0.163896\n",
       "4     0.053   0.114      0.180       0.194   0.459      0.153113\n",
       "...     ...     ...        ...         ...     ...           ...\n",
       "3136  0.061   0.295      0.230       0.146   0.268      0.135706\n",
       "3137  0.095   0.157      0.160       0.247   0.340      0.191599\n",
       "3138  0.098   0.278      0.154       0.207   0.264      0.151026\n",
       "3139  0.204   0.155      0.069       0.285   0.287      0.139175\n",
       "3140  0.142   0.129      0.148       0.207   0.374      0.118938\n",
       "\n",
       "[3141 rows x 6 columns]"
      ]
     },
     "execution_count": 97,
     "metadata": {},
     "output_type": "execute_result"
    }
   ],
   "source": [
    "X_improved"
   ]
  },
  {
   "cell_type": "markdown",
   "id": "bd2367e9",
   "metadata": {
    "deletable": false,
    "editable": false
   },
   "source": [
    "<!-- BEGIN QUESTION -->\n",
    "\n",
    "### Question 6c\n",
    "\n",
    "Compare the RMSE of our improved model with an extra feature with the intercept term removed with the RMSE obtained in the model from Question 3a. \n",
    "\n",
    "Comment on what you would *expect* to happen if you repeated the multicollinearity and bias-variance analyses on this new model using bootstrapping. Specifically, what would you expect to happen with this new model bias? \n",
    "\n",
    "*Hint*: If you wish, you may want to carry out this analysis by adding a cell below this. Please delete it afterwards and note that you *may* run into memory issues if you run it too many times!\n",
    "<!--\n",
    "BEGIN QUESTION\n",
    "name: q6c\n",
    "points: 2\n",
    "manual: True\n",
    "-->"
   ]
  },
  {
   "cell_type": "markdown",
   "id": "ff61a61f",
   "metadata": {},
   "source": [
    "_Type your answer here, replacing this text._"
   ]
  },
  {
   "cell_type": "markdown",
   "id": "5abb75bb",
   "metadata": {},
   "source": [
    "<!-- END QUESTION -->\n",
    "\n",
    "\n",
    "\n",
    "Closing note: The model you built in Question 6 is called an *autoregressive model*. To understand more about autoregressive models and collinearity, check out [this paper pre-print](https://psyarxiv.com/96snh)."
   ]
  },
  {
   "cell_type": "markdown",
   "id": "af6001ca",
   "metadata": {
    "jp-MarkdownHeadingCollapsed": true,
    "nbgrader": {
     "grade": false,
     "grade_id": "finish",
     "locked": true,
     "schema_version": 2,
     "solution": false
    },
    "tags": []
   },
   "source": [
    "## Congratulations!\n",
    "\n",
    "Congrats! You are finished with this homework assignment."
   ]
  },
  {
   "cell_type": "markdown",
   "id": "570d0ca5",
   "metadata": {},
   "source": [
    "## Detailed Submission Instructions\n",
    "\n",
    "**There are two parts to this assignment.**\n",
    "1. Question 1 is a written problem and should be submitted as a separate PDF to the Written portal of Gradescope. Please see the top of this notebook for the question writeup.\n",
    "\n",
    "1. All other questions are submitted as part of this notebook. Please see the following cells to generate the zip file for the Coding portal of Gradescope."
   ]
  },
  {
   "cell_type": "markdown",
   "id": "90471ec8",
   "metadata": {
    "deletable": false,
    "editable": false
   },
   "source": [
    "---\n",
    "\n",
    "To double-check your work, the cell below will rerun all of the autograder tests."
   ]
  },
  {
   "cell_type": "code",
   "execution_count": 83,
   "id": "e008be6d",
   "metadata": {
    "deletable": false,
    "editable": false
   },
   "outputs": [
    {
     "data": {
      "text/plain": [
       "q2a results: All test cases passed!\n",
       "\n",
       "q2b results: All test cases passed!\n",
       "\n",
       "q3a results: All test cases passed!\n",
       "\n",
       "q4a results: All test cases passed!\n",
       "\n",
       "q4b results: All test cases passed!\n",
       "\n",
       "q4c results: All test cases passed!\n",
       "\n",
       "q5a results: All test cases passed!\n",
       "\n",
       "q5c results: All test cases passed!\n",
       "\n",
       "q6a results: All test cases passed!\n",
       "\n",
       "q6b results:\n",
       "    q6b - 1 result:\n",
       "        ❌ Test case failed\n",
       "        Trying:\n",
       "            train_rmse_improved_cpc <= 0.005\n",
       "        Expecting:\n",
       "            True\n",
       "        **********************************************************************\n",
       "        Line 1, in q6b 0\n",
       "        Failed example:\n",
       "            train_rmse_improved_cpc <= 0.005\n",
       "        Exception raised:\n",
       "            Traceback (most recent call last):\n",
       "              File \"d:\\Anaconda\\Lib\\doctest.py\", line 1353, in __run\n",
       "                exec(compile(example.source, filename, \"single\",\n",
       "              File \"<doctest q6b 0[0]>\", line 1, in <module>\n",
       "                train_rmse_improved_cpc <= 0.005\n",
       "            TypeError: '<=' not supported between instances of 'ellipsis' and 'float'\n",
       "\n",
       "    q6b - 2 result:\n",
       "        ❌ Test case failed\n",
       "        Trying:\n",
       "            test_rmse_improved_cpc <= 0.005\n",
       "        Expecting:\n",
       "            True\n",
       "        **********************************************************************\n",
       "        Line 1, in q6b 1\n",
       "        Failed example:\n",
       "            test_rmse_improved_cpc <= 0.005\n",
       "        Exception raised:\n",
       "            Traceback (most recent call last):\n",
       "              File \"d:\\Anaconda\\Lib\\doctest.py\", line 1353, in __run\n",
       "                exec(compile(example.source, filename, \"single\",\n",
       "              File \"<doctest q6b 1[0]>\", line 1, in <module>\n",
       "                test_rmse_improved_cpc <= 0.005\n",
       "            TypeError: '<=' not supported between instances of 'ellipsis' and 'float'"
      ]
     },
     "execution_count": 83,
     "metadata": {},
     "output_type": "execute_result"
    }
   ],
   "source": [
    "grader.check_all()"
   ]
  },
  {
   "cell_type": "markdown",
   "id": "a996f07a",
   "metadata": {
    "deletable": false,
    "editable": false
   },
   "source": [
    "## Submission\n",
    "\n",
    "Make sure you have run all cells in your notebook in order before running the cell below, so that all images/graphs appear in the output. The cell below will generate a zip file for you to submit. **Please save before exporting!**"
   ]
  },
  {
   "cell_type": "code",
   "execution_count": 84,
   "id": "be9e3e24",
   "metadata": {
    "deletable": false,
    "editable": false
   },
   "outputs": [
    {
     "name": "stderr",
     "output_type": "stream",
     "text": [
      "C:\\Users\\29330\\AppData\\Roaming\\Python\\Python311\\site-packages\\otter\\check\\notebook.py:470: UserWarning: Could not locate a PDF to include\n",
      "  warnings.warn(\"Could not locate a PDF to include\")\n"
     ]
    },
    {
     "ename": "PandocMissing",
     "evalue": "Pandoc wasn't found.\nPlease check that pandoc is installed:\nhttps://pandoc.org/installing.html",
     "output_type": "error",
     "traceback": [
      "\u001b[1;31m---------------------------------------------------------------------------\u001b[0m",
      "\u001b[1;31mPandocMissing\u001b[0m                             Traceback (most recent call last)",
      "Cell \u001b[1;32mIn[84], line 2\u001b[0m\n\u001b[0;32m      1\u001b[0m \u001b[38;5;66;03m# Save your notebook first, then run this cell to export your submission.\u001b[39;00m\n\u001b[1;32m----> 2\u001b[0m grader\u001b[38;5;241m.\u001b[39mexport()\n",
      "File \u001b[1;32m~\\AppData\\Roaming\\Python\\Python311\\site-packages\\otter\\check\\utils.py:184\u001b[0m, in \u001b[0;36mgrading_mode_disabled\u001b[1;34m(wrapped, self, args, kwargs)\u001b[0m\n\u001b[0;32m    182\u001b[0m \u001b[38;5;28;01mif\u001b[39;00m \u001b[38;5;28mtype\u001b[39m(\u001b[38;5;28mself\u001b[39m)\u001b[38;5;241m.\u001b[39m_grading_mode:\n\u001b[0;32m    183\u001b[0m     \u001b[38;5;28;01mreturn\u001b[39;00m\n\u001b[1;32m--> 184\u001b[0m \u001b[38;5;28;01mreturn\u001b[39;00m wrapped(\u001b[38;5;241m*\u001b[39margs, \u001b[38;5;241m*\u001b[39m\u001b[38;5;241m*\u001b[39mkwargs)\n",
      "File \u001b[1;32m~\\AppData\\Roaming\\Python\\Python311\\site-packages\\otter\\check\\utils.py:166\u001b[0m, in \u001b[0;36mincompatible_with.<locals>.incompatible\u001b[1;34m(wrapped, self, args, kwargs)\u001b[0m\n\u001b[0;32m    164\u001b[0m     \u001b[38;5;28;01melse\u001b[39;00m:\n\u001b[0;32m    165\u001b[0m         \u001b[38;5;28;01mreturn\u001b[39;00m\n\u001b[1;32m--> 166\u001b[0m \u001b[38;5;28;01mreturn\u001b[39;00m wrapped(\u001b[38;5;241m*\u001b[39margs, \u001b[38;5;241m*\u001b[39m\u001b[38;5;241m*\u001b[39mkwargs)\n",
      "File \u001b[1;32m~\\AppData\\Roaming\\Python\\Python311\\site-packages\\otter\\check\\utils.py:217\u001b[0m, in \u001b[0;36mlogs_event.<locals>.event_logger\u001b[1;34m(wrapped, self, args, kwargs)\u001b[0m\n\u001b[0;32m    215\u001b[0m \u001b[38;5;28;01mexcept\u001b[39;00m \u001b[38;5;167;01mException\u001b[39;00m \u001b[38;5;28;01mas\u001b[39;00m e:\n\u001b[0;32m    216\u001b[0m     \u001b[38;5;28mself\u001b[39m\u001b[38;5;241m.\u001b[39m_log_event(event_type, success\u001b[38;5;241m=\u001b[39m\u001b[38;5;28;01mFalse\u001b[39;00m, error\u001b[38;5;241m=\u001b[39me)\n\u001b[1;32m--> 217\u001b[0m     \u001b[38;5;28;01mraise\u001b[39;00m e\n\u001b[0;32m    219\u001b[0m \u001b[38;5;28;01mif\u001b[39;00m ret \u001b[38;5;129;01mis\u001b[39;00m \u001b[38;5;28;01mNone\u001b[39;00m:\n\u001b[0;32m    220\u001b[0m     ret \u001b[38;5;241m=\u001b[39m LoggedEventReturnValue(\u001b[38;5;28;01mNone\u001b[39;00m)\n",
      "File \u001b[1;32m~\\AppData\\Roaming\\Python\\Python311\\site-packages\\otter\\check\\utils.py:213\u001b[0m, in \u001b[0;36mlogs_event.<locals>.event_logger\u001b[1;34m(wrapped, self, args, kwargs)\u001b[0m\n\u001b[0;32m    208\u001b[0m \u001b[38;5;250m\u001b[39m\u001b[38;5;124;03m\"\"\"\u001b[39;00m\n\u001b[0;32m    209\u001b[0m \u001b[38;5;124;03mRuns a method, catching any errors and logging the call. Returns the unwrapped return value\u001b[39;00m\n\u001b[0;32m    210\u001b[0m \u001b[38;5;124;03mof the wrapped function.\u001b[39;00m\n\u001b[0;32m    211\u001b[0m \u001b[38;5;124;03m\"\"\"\u001b[39;00m\n\u001b[0;32m    212\u001b[0m \u001b[38;5;28;01mtry\u001b[39;00m:\n\u001b[1;32m--> 213\u001b[0m     ret: Optional[LoggedEventReturnValue[T]] \u001b[38;5;241m=\u001b[39m wrapped(\u001b[38;5;241m*\u001b[39margs, \u001b[38;5;241m*\u001b[39m\u001b[38;5;241m*\u001b[39mkwargs)\n\u001b[0;32m    215\u001b[0m \u001b[38;5;28;01mexcept\u001b[39;00m \u001b[38;5;167;01mException\u001b[39;00m \u001b[38;5;28;01mas\u001b[39;00m e:\n\u001b[0;32m    216\u001b[0m     \u001b[38;5;28mself\u001b[39m\u001b[38;5;241m.\u001b[39m_log_event(event_type, success\u001b[38;5;241m=\u001b[39m\u001b[38;5;28;01mFalse\u001b[39;00m, error\u001b[38;5;241m=\u001b[39me)\n",
      "File \u001b[1;32m~\\AppData\\Roaming\\Python\\Python311\\site-packages\\otter\\check\\notebook.py:525\u001b[0m, in \u001b[0;36mNotebook.export\u001b[1;34m(self, nb_path, export_path, pdf, filtering, pagebreaks, files, display_link, force_save, run_tests)\u001b[0m\n\u001b[0;32m    523\u001b[0m \u001b[38;5;28;01mif\u001b[39;00m pdf_created \u001b[38;5;129;01mor\u001b[39;00m \u001b[38;5;129;01mnot\u001b[39;00m \u001b[38;5;28mself\u001b[39m\u001b[38;5;241m.\u001b[39m_nbmeta_config\u001b[38;5;241m.\u001b[39mrequire_no_pdf_confirmation:\n\u001b[0;32m    524\u001b[0m     \u001b[38;5;28;01mif\u001b[39;00m pdf_error \u001b[38;5;129;01mis\u001b[39;00m \u001b[38;5;129;01mnot\u001b[39;00m \u001b[38;5;28;01mNone\u001b[39;00m:\n\u001b[1;32m--> 525\u001b[0m         \u001b[38;5;28;01mraise\u001b[39;00m pdf_error\n\u001b[0;32m    526\u001b[0m     continue_export()\n\u001b[0;32m    527\u001b[0m \u001b[38;5;28;01melse\u001b[39;00m:\n",
      "File \u001b[1;32m~\\AppData\\Roaming\\Python\\Python311\\site-packages\\otter\\check\\notebook.py:462\u001b[0m, in \u001b[0;36mNotebook.export\u001b[1;34m(self, nb_path, export_path, pdf, filtering, pagebreaks, files, display_link, force_save, run_tests)\u001b[0m\n\u001b[0;32m    460\u001b[0m pdf_path, pdf_created, pdf_error \u001b[38;5;241m=\u001b[39m \u001b[38;5;28;01mNone\u001b[39;00m, \u001b[38;5;28;01mTrue\u001b[39;00m, \u001b[38;5;28;01mNone\u001b[39;00m\n\u001b[0;32m    461\u001b[0m \u001b[38;5;28;01mif\u001b[39;00m pdf:\n\u001b[1;32m--> 462\u001b[0m     \u001b[38;5;28;01mtry\u001b[39;00m: pdf_path \u001b[38;5;241m=\u001b[39m export_notebook(nb_path, filtering\u001b[38;5;241m=\u001b[39mfiltering, pagebreaks\u001b[38;5;241m=\u001b[39mpagebreaks)\n\u001b[0;32m    463\u001b[0m     \u001b[38;5;28;01mexcept\u001b[39;00m \u001b[38;5;167;01mException\u001b[39;00m \u001b[38;5;28;01mas\u001b[39;00m e: pdf_error \u001b[38;5;241m=\u001b[39m e\n\u001b[0;32m    464\u001b[0m     \u001b[38;5;28;01mif\u001b[39;00m pdf_path \u001b[38;5;129;01mand\u001b[39;00m os\u001b[38;5;241m.\u001b[39mpath\u001b[38;5;241m.\u001b[39misfile(pdf_path):\n",
      "File \u001b[1;32m~\\AppData\\Roaming\\Python\\Python311\\site-packages\\otter\\export\\__init__.py:36\u001b[0m, in \u001b[0;36mexport_notebook\u001b[1;34m(nb_path, dest, exporter_type, **kwargs)\u001b[0m\n\u001b[0;32m     33\u001b[0m     pdf_name \u001b[38;5;241m=\u001b[39m os\u001b[38;5;241m.\u001b[39mpath\u001b[38;5;241m.\u001b[39msplitext(nb_path)[\u001b[38;5;241m0\u001b[39m] \u001b[38;5;241m+\u001b[39m \u001b[38;5;124m\"\u001b[39m\u001b[38;5;124m.pdf\u001b[39m\u001b[38;5;124m\"\u001b[39m\n\u001b[0;32m     35\u001b[0m Exporter \u001b[38;5;241m=\u001b[39m get_exporter(exporter_type\u001b[38;5;241m=\u001b[39mexporter_type)\n\u001b[1;32m---> 36\u001b[0m Exporter\u001b[38;5;241m.\u001b[39mconvert_notebook(nb_path, pdf_name, \u001b[38;5;241m*\u001b[39m\u001b[38;5;241m*\u001b[39mkwargs)\n\u001b[0;32m     38\u001b[0m \u001b[38;5;28;01mreturn\u001b[39;00m pdf_name\n",
      "File \u001b[1;32m~\\AppData\\Roaming\\Python\\Python311\\site-packages\\otter\\export\\exporters\\via_latex.py:66\u001b[0m, in \u001b[0;36mPDFViaLatexExporter.convert_notebook\u001b[1;34m(cls, nb_path, dest, xecjk, **kwargs)\u001b[0m\n\u001b[0;32m     63\u001b[0m     \u001b[38;5;28;01mwith\u001b[39;00m \u001b[38;5;28mopen\u001b[39m(os\u001b[38;5;241m.\u001b[39mpath\u001b[38;5;241m.\u001b[39msplitext(dest)[\u001b[38;5;241m0\u001b[39m] \u001b[38;5;241m+\u001b[39m \u001b[38;5;124m\"\u001b[39m\u001b[38;5;124m.tex\u001b[39m\u001b[38;5;124m\"\u001b[39m, \u001b[38;5;124m\"\u001b[39m\u001b[38;5;124mw+\u001b[39m\u001b[38;5;124m\"\u001b[39m) \u001b[38;5;28;01mas\u001b[39;00m output_file:\n\u001b[0;32m     64\u001b[0m         output_file\u001b[38;5;241m.\u001b[39mwrite(latex_output[\u001b[38;5;241m0\u001b[39m])\n\u001b[1;32m---> 66\u001b[0m pdf_output \u001b[38;5;241m=\u001b[39m nbconvert\u001b[38;5;241m.\u001b[39mexport(pdf_exporter, nb)\n\u001b[0;32m     67\u001b[0m \u001b[38;5;28;01mwith\u001b[39;00m \u001b[38;5;28mopen\u001b[39m(dest, \u001b[38;5;124m\"\u001b[39m\u001b[38;5;124mwb\u001b[39m\u001b[38;5;124m\"\u001b[39m) \u001b[38;5;28;01mas\u001b[39;00m output_file:\n\u001b[0;32m     68\u001b[0m     output_file\u001b[38;5;241m.\u001b[39mwrite(pdf_output[\u001b[38;5;241m0\u001b[39m])\n",
      "File \u001b[1;32md:\\Anaconda\\Lib\\site-packages\\nbconvert\\exporters\\base.py:90\u001b[0m, in \u001b[0;36mexport\u001b[1;34m(exporter, nb, **kw)\u001b[0m\n\u001b[0;32m     88\u001b[0m \u001b[38;5;66;03m# Try to convert the notebook using the appropriate conversion function.\u001b[39;00m\n\u001b[0;32m     89\u001b[0m \u001b[38;5;28;01mif\u001b[39;00m \u001b[38;5;28misinstance\u001b[39m(nb, NotebookNode):\n\u001b[1;32m---> 90\u001b[0m     output, resources \u001b[38;5;241m=\u001b[39m exporter_instance\u001b[38;5;241m.\u001b[39mfrom_notebook_node(nb, resources)\n\u001b[0;32m     91\u001b[0m \u001b[38;5;28;01melif\u001b[39;00m \u001b[38;5;28misinstance\u001b[39m(nb, (\u001b[38;5;28mstr\u001b[39m,)):\n\u001b[0;32m     92\u001b[0m     output, resources \u001b[38;5;241m=\u001b[39m exporter_instance\u001b[38;5;241m.\u001b[39mfrom_filename(nb, resources)\n",
      "File \u001b[1;32md:\\Anaconda\\Lib\\site-packages\\nbconvert\\exporters\\pdf.py:187\u001b[0m, in \u001b[0;36mPDFExporter.from_notebook_node\u001b[1;34m(self, nb, resources, **kw)\u001b[0m\n\u001b[0;32m    185\u001b[0m \u001b[38;5;28;01mdef\u001b[39;00m \u001b[38;5;21mfrom_notebook_node\u001b[39m(\u001b[38;5;28mself\u001b[39m, nb, resources\u001b[38;5;241m=\u001b[39m\u001b[38;5;28;01mNone\u001b[39;00m, \u001b[38;5;241m*\u001b[39m\u001b[38;5;241m*\u001b[39mkw):\n\u001b[0;32m    186\u001b[0m \u001b[38;5;250m    \u001b[39m\u001b[38;5;124;03m\"\"\"Convert from notebook node.\"\"\"\u001b[39;00m\n\u001b[1;32m--> 187\u001b[0m     latex, resources \u001b[38;5;241m=\u001b[39m \u001b[38;5;28msuper\u001b[39m()\u001b[38;5;241m.\u001b[39mfrom_notebook_node(nb, resources\u001b[38;5;241m=\u001b[39mresources, \u001b[38;5;241m*\u001b[39m\u001b[38;5;241m*\u001b[39mkw)\n\u001b[0;32m    188\u001b[0m     \u001b[38;5;66;03m# set texinputs directory, so that local files will be found\u001b[39;00m\n\u001b[0;32m    189\u001b[0m     \u001b[38;5;28;01mif\u001b[39;00m resources \u001b[38;5;129;01mand\u001b[39;00m resources\u001b[38;5;241m.\u001b[39mget(\u001b[38;5;124m\"\u001b[39m\u001b[38;5;124mmetadata\u001b[39m\u001b[38;5;124m\"\u001b[39m, {})\u001b[38;5;241m.\u001b[39mget(\u001b[38;5;124m\"\u001b[39m\u001b[38;5;124mpath\u001b[39m\u001b[38;5;124m\"\u001b[39m):\n",
      "File \u001b[1;32md:\\Anaconda\\Lib\\site-packages\\nbconvert\\exporters\\latex.py:92\u001b[0m, in \u001b[0;36mLatexExporter.from_notebook_node\u001b[1;34m(self, nb, resources, **kw)\u001b[0m\n\u001b[0;32m     86\u001b[0m convert_explicitly_relative_paths \u001b[38;5;241m=\u001b[39m \u001b[38;5;28mself\u001b[39m\u001b[38;5;241m.\u001b[39mfilters\u001b[38;5;241m.\u001b[39mget(\n\u001b[0;32m     87\u001b[0m     \u001b[38;5;124m\"\u001b[39m\u001b[38;5;124mconvert_explicitly_relative_paths\u001b[39m\u001b[38;5;124m\"\u001b[39m,\n\u001b[0;32m     88\u001b[0m     ConvertExplicitlyRelativePaths(texinputs\u001b[38;5;241m=\u001b[39mtexinputs, parent\u001b[38;5;241m=\u001b[39m\u001b[38;5;28mself\u001b[39m),\n\u001b[0;32m     89\u001b[0m )\n\u001b[0;32m     90\u001b[0m \u001b[38;5;28mself\u001b[39m\u001b[38;5;241m.\u001b[39mregister_filter(\u001b[38;5;124m\"\u001b[39m\u001b[38;5;124mconvert_explicitly_relative_paths\u001b[39m\u001b[38;5;124m\"\u001b[39m, convert_explicitly_relative_paths)\n\u001b[1;32m---> 92\u001b[0m \u001b[38;5;28;01mreturn\u001b[39;00m \u001b[38;5;28msuper\u001b[39m()\u001b[38;5;241m.\u001b[39mfrom_notebook_node(nb, resources, \u001b[38;5;241m*\u001b[39m\u001b[38;5;241m*\u001b[39mkw)\n",
      "File \u001b[1;32md:\\Anaconda\\Lib\\site-packages\\nbconvert\\exporters\\templateexporter.py:427\u001b[0m, in \u001b[0;36mTemplateExporter.from_notebook_node\u001b[1;34m(self, nb, resources, **kw)\u001b[0m\n\u001b[0;32m    413\u001b[0m resources[\u001b[38;5;124m\"\u001b[39m\u001b[38;5;124mglobal_content_filter\u001b[39m\u001b[38;5;124m\"\u001b[39m] \u001b[38;5;241m=\u001b[39m {\n\u001b[0;32m    414\u001b[0m     \u001b[38;5;124m\"\u001b[39m\u001b[38;5;124minclude_code\u001b[39m\u001b[38;5;124m\"\u001b[39m: \u001b[38;5;129;01mnot\u001b[39;00m \u001b[38;5;28mself\u001b[39m\u001b[38;5;241m.\u001b[39mexclude_code_cell,\n\u001b[0;32m    415\u001b[0m     \u001b[38;5;124m\"\u001b[39m\u001b[38;5;124minclude_markdown\u001b[39m\u001b[38;5;124m\"\u001b[39m: \u001b[38;5;129;01mnot\u001b[39;00m \u001b[38;5;28mself\u001b[39m\u001b[38;5;241m.\u001b[39mexclude_markdown,\n\u001b[1;32m   (...)\u001b[0m\n\u001b[0;32m    423\u001b[0m     \u001b[38;5;124m\"\u001b[39m\u001b[38;5;124mno_prompt\u001b[39m\u001b[38;5;124m\"\u001b[39m: \u001b[38;5;28mself\u001b[39m\u001b[38;5;241m.\u001b[39mexclude_input_prompt \u001b[38;5;129;01mand\u001b[39;00m \u001b[38;5;28mself\u001b[39m\u001b[38;5;241m.\u001b[39mexclude_output_prompt,\n\u001b[0;32m    424\u001b[0m }\n\u001b[0;32m    426\u001b[0m \u001b[38;5;66;03m# Top level variables are passed to the template_exporter here.\u001b[39;00m\n\u001b[1;32m--> 427\u001b[0m output \u001b[38;5;241m=\u001b[39m \u001b[38;5;28mself\u001b[39m\u001b[38;5;241m.\u001b[39mtemplate\u001b[38;5;241m.\u001b[39mrender(nb\u001b[38;5;241m=\u001b[39mnb_copy, resources\u001b[38;5;241m=\u001b[39mresources)\n\u001b[0;32m    428\u001b[0m output \u001b[38;5;241m=\u001b[39m output\u001b[38;5;241m.\u001b[39mlstrip(\u001b[38;5;124m\"\u001b[39m\u001b[38;5;130;01m\\r\u001b[39;00m\u001b[38;5;130;01m\\n\u001b[39;00m\u001b[38;5;124m\"\u001b[39m)\n\u001b[0;32m    429\u001b[0m \u001b[38;5;28;01mreturn\u001b[39;00m output, resources\n",
      "File \u001b[1;32md:\\Anaconda\\Lib\\site-packages\\jinja2\\environment.py:1301\u001b[0m, in \u001b[0;36mTemplate.render\u001b[1;34m(self, *args, **kwargs)\u001b[0m\n\u001b[0;32m   1299\u001b[0m     \u001b[38;5;28;01mreturn\u001b[39;00m \u001b[38;5;28mself\u001b[39m\u001b[38;5;241m.\u001b[39menvironment\u001b[38;5;241m.\u001b[39mconcat(\u001b[38;5;28mself\u001b[39m\u001b[38;5;241m.\u001b[39mroot_render_func(ctx))  \u001b[38;5;66;03m# type: ignore\u001b[39;00m\n\u001b[0;32m   1300\u001b[0m \u001b[38;5;28;01mexcept\u001b[39;00m \u001b[38;5;167;01mException\u001b[39;00m:\n\u001b[1;32m-> 1301\u001b[0m     \u001b[38;5;28mself\u001b[39m\u001b[38;5;241m.\u001b[39menvironment\u001b[38;5;241m.\u001b[39mhandle_exception()\n",
      "File \u001b[1;32md:\\Anaconda\\Lib\\site-packages\\jinja2\\environment.py:936\u001b[0m, in \u001b[0;36mEnvironment.handle_exception\u001b[1;34m(self, source)\u001b[0m\n\u001b[0;32m    931\u001b[0m \u001b[38;5;250m\u001b[39m\u001b[38;5;124;03m\"\"\"Exception handling helper.  This is used internally to either raise\u001b[39;00m\n\u001b[0;32m    932\u001b[0m \u001b[38;5;124;03mrewritten exceptions or return a rendered traceback for the template.\u001b[39;00m\n\u001b[0;32m    933\u001b[0m \u001b[38;5;124;03m\"\"\"\u001b[39;00m\n\u001b[0;32m    934\u001b[0m \u001b[38;5;28;01mfrom\u001b[39;00m \u001b[38;5;21;01m.\u001b[39;00m\u001b[38;5;21;01mdebug\u001b[39;00m \u001b[38;5;28;01mimport\u001b[39;00m rewrite_traceback_stack\n\u001b[1;32m--> 936\u001b[0m \u001b[38;5;28;01mraise\u001b[39;00m rewrite_traceback_stack(source\u001b[38;5;241m=\u001b[39msource)\n",
      "File \u001b[1;32m~\\AppData\\Roaming\\Python\\Python311\\site-packages\\otter\\export\\exporters\\templates\\via_latex\\index.tex.j2:7\u001b[0m, in \u001b[0;36mtop-level template code\u001b[1;34m()\u001b[0m\n\u001b[0;32m      5\u001b[0m \n\u001b[0;32m      6\u001b[0m % Inherit from the specified cell style.\n\u001b[1;32m----> 7\u001b[0m ((* extends cell_style *))\n\u001b[0;32m      8\u001b[0m \n\u001b[0;32m      9\u001b[0m \n",
      "File \u001b[1;32md:\\Anaconda\\share\\jupyter\\nbconvert\\templates\\latex\\style_ipython.tex.j2:68\u001b[0m, in \u001b[0;36mtop-level template code\u001b[1;34m()\u001b[0m\n\u001b[0;32m     66\u001b[0m     ((*- set indention =  \" \" * (execution_count | length + 7) -*))\n\u001b[0;32m     67\u001b[0m \\begin{Verbatim}[commandchars=\\\\\\{\\}]\n\u001b[1;32m---> 68\u001b[0m ((( text | add_prompts(first='{\\\\color{' ~ prompt_color ~ '}' ~ prompt ~ '[{\\\\color{' ~ prompt_color ~ '}' ~ execution_count ~ '}]:} ', cont=indention) )))\n\u001b[0;32m     69\u001b[0m \\end{Verbatim}\n\u001b[0;32m     70\u001b[0m ((*- endmacro *))\n",
      "File \u001b[1;32md:\\Anaconda\\share\\jupyter\\nbconvert\\templates\\latex\\base.tex.j2:7\u001b[0m, in \u001b[0;36mtop-level template code\u001b[1;34m()\u001b[0m\n\u001b[0;32m      5\u001b[0m override this.-=))\n\u001b[0;32m      6\u001b[0m \n\u001b[1;32m----> 7\u001b[0m ((*- extends 'document_contents.tex.j2' -*))\n\u001b[0;32m      8\u001b[0m \n\u001b[0;32m      9\u001b[0m %===============================================================================\n",
      "File \u001b[1;32md:\\Anaconda\\share\\jupyter\\nbconvert\\templates\\latex\\document_contents.tex.j2:51\u001b[0m, in \u001b[0;36mtop-level template code\u001b[1;34m()\u001b[0m\n\u001b[0;32m     49\u001b[0m ((* macro draw_figure(filename) -*))\n\u001b[0;32m     50\u001b[0m ((* set filename = filename | posix_path *))\n\u001b[1;32m---> 51\u001b[0m ((*- block figure scoped -*))\n\u001b[0;32m     52\u001b[0m     \\begin{center}\n\u001b[0;32m     53\u001b[0m     \\adjustimage{max size={0.9\\linewidth}{0.9\\paperheight}}{((( filename )))}\n",
      "File \u001b[1;32md:\\Anaconda\\share\\jupyter\\nbconvert\\templates\\latex\\display_priority.j2:5\u001b[0m, in \u001b[0;36mtop-level template code\u001b[1;34m()\u001b[0m\n\u001b[0;32m      3\u001b[0m \n\u001b[0;32m      4\u001b[0m \n\u001b[1;32m----> 5\u001b[0m ((*- extends 'null.j2' -*))\n\u001b[0;32m      6\u001b[0m \n\u001b[0;32m      7\u001b[0m ((=display data priority=))\n",
      "File \u001b[1;32md:\\Anaconda\\share\\jupyter\\nbconvert\\templates\\latex\\null.j2:30\u001b[0m, in \u001b[0;36mtop-level template code\u001b[1;34m()\u001b[0m\n\u001b[0;32m     28\u001b[0m ((*- block header -*))\n\u001b[0;32m     29\u001b[0m ((*- endblock header -*))\n\u001b[1;32m---> 30\u001b[0m ((*- block body -*))\n\u001b[0;32m     31\u001b[0m ((*- for cell in nb.cells -*))\n\u001b[0;32m     32\u001b[0m     ((*- block any_cell scoped -*))\n",
      "File \u001b[1;32md:\\Anaconda\\share\\jupyter\\nbconvert\\templates\\latex\\base.tex.j2:220\u001b[0m, in \u001b[0;36mblock 'body'\u001b[1;34m()\u001b[0m\n\u001b[0;32m    218\u001b[0m ((* endblock predoc *))\n\u001b[0;32m    219\u001b[0m \n\u001b[1;32m--> 220\u001b[0m ((( super() )))\n\u001b[0;32m    221\u001b[0m \n\u001b[0;32m    222\u001b[0m % Add a bibliography block to the postdoc\n",
      "File \u001b[1;32md:\\Anaconda\\share\\jupyter\\nbconvert\\templates\\latex\\null.j2:32\u001b[0m, in \u001b[0;36mblock 'body'\u001b[1;34m()\u001b[0m\n\u001b[0;32m     30\u001b[0m ((*- block body -*))\n\u001b[0;32m     31\u001b[0m ((*- for cell in nb.cells -*))\n\u001b[1;32m---> 32\u001b[0m     ((*- block any_cell scoped -*))\n\u001b[0;32m     33\u001b[0m         ((*- if cell.cell_type == 'code'-*))\n\u001b[0;32m     34\u001b[0m             ((*- if resources.global_content_filter.include_code -*))\n",
      "File \u001b[1;32md:\\Anaconda\\share\\jupyter\\nbconvert\\templates\\latex\\null.j2:85\u001b[0m, in \u001b[0;36mblock 'any_cell'\u001b[1;34m()\u001b[0m\n\u001b[0;32m     83\u001b[0m ((*- elif cell.cell_type in ['markdown'] -*))\n\u001b[0;32m     84\u001b[0m     ((*- if resources.global_content_filter.include_markdown and not cell.metadata.get(\"transient\",{}).get(\"remove_source\", false) -*))\n\u001b[1;32m---> 85\u001b[0m         ((*- block markdowncell scoped-*)) ((*- endblock markdowncell -*))\n\u001b[0;32m     86\u001b[0m     ((*- endif -*))\n\u001b[0;32m     87\u001b[0m ((*- elif cell.cell_type in ['raw'] -*))\n",
      "File \u001b[1;32m~\\AppData\\Roaming\\Python\\Python311\\site-packages\\otter\\export\\exporters\\templates\\via_latex\\index.tex.j2:32\u001b[0m, in \u001b[0;36mblock 'markdowncell'\u001b[1;34m()\u001b[0m\n\u001b[0;32m     30\u001b[0m \t\t\\cleartooddpage\n\u001b[0;32m     31\u001b[0m         ((*- endif -*))\n\u001b[1;32m---> 32\u001b[0m ((( super() )))\n\u001b[0;32m     33\u001b[0m ((* endblock markdowncell *))\n\u001b[0;32m     34\u001b[0m \n",
      "File \u001b[1;32md:\\Anaconda\\share\\jupyter\\nbconvert\\templates\\latex\\document_contents.tex.j2:68\u001b[0m, in \u001b[0;36mblock 'markdowncell'\u001b[1;34m()\u001b[0m\n\u001b[0;32m     66\u001b[0m % Render markdown\n\u001b[0;32m     67\u001b[0m ((* block markdowncell scoped *))\n\u001b[1;32m---> 68\u001b[0m     ((( cell.source | citation2latex | strip_files_prefix | convert_pandoc('markdown+tex_math_double_backslash', 'json',extra_args=[]) | resolve_references | convert_explicitly_relative_paths | convert_pandoc('json','latex'))))\n\u001b[0;32m     69\u001b[0m ((* endblock markdowncell *))\n\u001b[0;32m     70\u001b[0m \n",
      "File \u001b[1;32md:\\Anaconda\\Lib\\site-packages\\nbconvert\\filters\\pandoc.py:35\u001b[0m, in \u001b[0;36mconvert_pandoc\u001b[1;34m(source, from_format, to_format, extra_args)\u001b[0m\n\u001b[0;32m     15\u001b[0m \u001b[38;5;28;01mdef\u001b[39;00m \u001b[38;5;21mconvert_pandoc\u001b[39m(source, from_format, to_format, extra_args\u001b[38;5;241m=\u001b[39m\u001b[38;5;28;01mNone\u001b[39;00m):\n\u001b[0;32m     16\u001b[0m \u001b[38;5;250m    \u001b[39m\u001b[38;5;124;03m\"\"\"Convert between any two formats using pandoc.\u001b[39;00m\n\u001b[0;32m     17\u001b[0m \n\u001b[0;32m     18\u001b[0m \u001b[38;5;124;03m    This function will raise an error if pandoc is not installed.\u001b[39;00m\n\u001b[1;32m   (...)\u001b[0m\n\u001b[0;32m     33\u001b[0m \u001b[38;5;124;03m        Output as returned by pandoc.\u001b[39;00m\n\u001b[0;32m     34\u001b[0m \u001b[38;5;124;03m    \"\"\"\u001b[39;00m\n\u001b[1;32m---> 35\u001b[0m     \u001b[38;5;28;01mreturn\u001b[39;00m pandoc(source, from_format, to_format, extra_args\u001b[38;5;241m=\u001b[39mextra_args)\n",
      "File \u001b[1;32md:\\Anaconda\\Lib\\site-packages\\nbconvert\\utils\\pandoc.py:51\u001b[0m, in \u001b[0;36mpandoc\u001b[1;34m(source, fmt, to, extra_args, encoding)\u001b[0m\n\u001b[0;32m     48\u001b[0m     cmd\u001b[38;5;241m.\u001b[39mextend(extra_args)\n\u001b[0;32m     50\u001b[0m \u001b[38;5;66;03m# this will raise an exception that will pop us out of here\u001b[39;00m\n\u001b[1;32m---> 51\u001b[0m check_pandoc_version()\n\u001b[0;32m     53\u001b[0m \u001b[38;5;66;03m# we can safely continue\u001b[39;00m\n\u001b[0;32m     54\u001b[0m p \u001b[38;5;241m=\u001b[39m subprocess\u001b[38;5;241m.\u001b[39mPopen(cmd, stdin\u001b[38;5;241m=\u001b[39msubprocess\u001b[38;5;241m.\u001b[39mPIPE, stdout\u001b[38;5;241m=\u001b[39msubprocess\u001b[38;5;241m.\u001b[39mPIPE)  \u001b[38;5;66;03m# noqa\u001b[39;00m\n",
      "File \u001b[1;32md:\\Anaconda\\Lib\\site-packages\\nbconvert\\utils\\pandoc.py:99\u001b[0m, in \u001b[0;36mcheck_pandoc_version\u001b[1;34m()\u001b[0m\n\u001b[0;32m     96\u001b[0m \u001b[38;5;28;01mif\u001b[39;00m check_pandoc_version\u001b[38;5;241m.\u001b[39m_cached \u001b[38;5;129;01mis\u001b[39;00m \u001b[38;5;129;01mnot\u001b[39;00m \u001b[38;5;28;01mNone\u001b[39;00m:  \u001b[38;5;66;03m# type:ignore[attr-defined]\u001b[39;00m\n\u001b[0;32m     97\u001b[0m     \u001b[38;5;28;01mreturn\u001b[39;00m check_pandoc_version\u001b[38;5;241m.\u001b[39m_cached  \u001b[38;5;66;03m# type:ignore[attr-defined]\u001b[39;00m\n\u001b[1;32m---> 99\u001b[0m v \u001b[38;5;241m=\u001b[39m get_pandoc_version()\n\u001b[0;32m    100\u001b[0m \u001b[38;5;28;01mif\u001b[39;00m v \u001b[38;5;129;01mis\u001b[39;00m \u001b[38;5;28;01mNone\u001b[39;00m:\n\u001b[0;32m    101\u001b[0m     warnings\u001b[38;5;241m.\u001b[39mwarn(\n\u001b[0;32m    102\u001b[0m         \u001b[38;5;124m\"\u001b[39m\u001b[38;5;124mSorry, we cannot determine the version of pandoc.\u001b[39m\u001b[38;5;130;01m\\n\u001b[39;00m\u001b[38;5;124m\"\u001b[39m\n\u001b[0;32m    103\u001b[0m         \u001b[38;5;124m\"\u001b[39m\u001b[38;5;124mPlease consider reporting this issue and include the\u001b[39m\u001b[38;5;124m\"\u001b[39m\n\u001b[1;32m   (...)\u001b[0m\n\u001b[0;32m    106\u001b[0m         stacklevel\u001b[38;5;241m=\u001b[39m\u001b[38;5;241m2\u001b[39m,\n\u001b[0;32m    107\u001b[0m     )\n",
      "File \u001b[1;32md:\\Anaconda\\Lib\\site-packages\\nbconvert\\utils\\pandoc.py:76\u001b[0m, in \u001b[0;36mget_pandoc_version\u001b[1;34m()\u001b[0m\n\u001b[0;32m     74\u001b[0m \u001b[38;5;28;01mif\u001b[39;00m __version \u001b[38;5;129;01mis\u001b[39;00m \u001b[38;5;28;01mNone\u001b[39;00m:\n\u001b[0;32m     75\u001b[0m     \u001b[38;5;28;01mif\u001b[39;00m \u001b[38;5;129;01mnot\u001b[39;00m shutil\u001b[38;5;241m.\u001b[39mwhich(\u001b[38;5;124m\"\u001b[39m\u001b[38;5;124mpandoc\u001b[39m\u001b[38;5;124m\"\u001b[39m):\n\u001b[1;32m---> 76\u001b[0m         \u001b[38;5;28;01mraise\u001b[39;00m PandocMissing()\n\u001b[0;32m     78\u001b[0m     out \u001b[38;5;241m=\u001b[39m subprocess\u001b[38;5;241m.\u001b[39mcheck_output([\u001b[38;5;124m\"\u001b[39m\u001b[38;5;124mpandoc\u001b[39m\u001b[38;5;124m\"\u001b[39m, \u001b[38;5;124m\"\u001b[39m\u001b[38;5;124m-v\u001b[39m\u001b[38;5;124m\"\u001b[39m])  \u001b[38;5;66;03m# noqa\u001b[39;00m\n\u001b[0;32m     79\u001b[0m     out_lines \u001b[38;5;241m=\u001b[39m out\u001b[38;5;241m.\u001b[39msplitlines()\n",
      "\u001b[1;31mPandocMissing\u001b[0m: Pandoc wasn't found.\nPlease check that pandoc is installed:\nhttps://pandoc.org/installing.html"
     ]
    }
   ],
   "source": [
    "# Save your notebook first, then run this cell to export your submission.\n",
    "# grader.export()"
   ]
  },
  {
   "cell_type": "markdown",
   "id": "7dbd38a4",
   "metadata": {},
   "source": [
    " "
   ]
  }
 ],
 "metadata": {
  "kernelspec": {
   "display_name": "Python 3 (ipykernel)",
   "language": "python",
   "name": "python3"
  },
  "language_info": {
   "codemirror_mode": {
    "name": "ipython",
    "version": 3
   },
   "file_extension": ".py",
   "mimetype": "text/x-python",
   "name": "python",
   "nbconvert_exporter": "python",
   "pygments_lexer": "ipython3",
   "version": "3.11.7"
  }
 },
 "nbformat": 4,
 "nbformat_minor": 5
}
